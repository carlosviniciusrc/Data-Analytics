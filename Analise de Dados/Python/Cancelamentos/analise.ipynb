{
 "cells": [
  {
   "cell_type": "markdown",
   "metadata": {},
   "source": [
    "Vamos verificar o motivo dos cancelamentos dos clientes e procurar soluções"
   ]
  },
  {
   "cell_type": "code",
   "execution_count": null,
   "metadata": {},
   "outputs": [],
   "source": [
    "import pandas as pd\n",
    "import plotly.express as px\n",
    "\n",
    "#Impotando a tabela\n",
    "tabela = pd.read_csv(\"cancelamentos_sample.csv\")\n",
    "\n",
    "# Exibindo a tabela\n",
    "display(tabela)\n",
    "\n",
    "# Exibindo as informações da tabela\n",
    "display(tabela.info())"
   ]
  },
  {
   "cell_type": "code",
   "execution_count": null,
   "metadata": {},
   "outputs": [],
   "source": [
    "# Na exibição das informações verificamos que existem linhas sem valores,e colunas desnecessarias. Vamos deletar o que é desnecessario para não atrapalhar na analise\n",
    "\n",
    "# Exclusão de colunas\n",
    "tabela = tabela.drop(columns='CustomerID')\n",
    "\n",
    "# Exclusão de valores vazios\n",
    "tabela = tabela.dropna()\n",
    "\n",
    "display(tabela)\n",
    "\n",
    "display(tabela.info())\n"
   ]
  },
  {
   "cell_type": "code",
   "execution_count": null,
   "metadata": {},
   "outputs": [],
   "source": [
    "# Análise Inicial -> Quantos clientes cancelatam e qual o % de clientes\n",
    "\n",
    "# Verificando quantos clientes cancelaram\n",
    "display(tabela[\"cancelou\"].value_counts())\n",
    "\n",
    "# Verificando o percentual de clientes que cancelaram\n",
    "display(tabela[\"cancelou\"].value_counts(normalize=True))\n"
   ]
  },
  {
   "cell_type": "code",
   "execution_count": null,
   "metadata": {},
   "outputs": [],
   "source": [
    "# Análise da causa de cancelamento dos clientes\n",
    "\n",
    "# Comparar a coluna de cancelamentos com as outras colunas\n",
    "grafico = px.histogram(tabela, x=\"duracao_contrato\", color=\"cancelou\", text_auto=True)\n",
    "\n",
    "# Exibindo o grafico\n",
    "grafico.show()\n"
   ]
  },
  {
   "cell_type": "code",
   "execution_count": null,
   "metadata": {},
   "outputs": [],
   "source": [
    "# Vamos comparar todas os garficos para saber em qual parte teve o maior impacto\n",
    "\n",
    "for coluna in tabela.columns:\n",
    "    grafico = px.histogram(tabela, x= coluna, color=\"cancelou\", text_auto=True)\n",
    "\n",
    "    grafico.show()\n",
    "    "
   ]
  }
 ],
 "metadata": {
  "kernelspec": {
   "display_name": "Python 3",
   "language": "python",
   "name": "python3"
  },
  "language_info": {
   "codemirror_mode": {
    "name": "ipython",
    "version": 3
   },
   "file_extension": ".py",
   "mimetype": "text/x-python",
   "name": "python",
   "nbconvert_exporter": "python",
   "pygments_lexer": "ipython3",
   "version": "3.12.4"
  }
 },
 "nbformat": 4,
 "nbformat_minor": 2
}
