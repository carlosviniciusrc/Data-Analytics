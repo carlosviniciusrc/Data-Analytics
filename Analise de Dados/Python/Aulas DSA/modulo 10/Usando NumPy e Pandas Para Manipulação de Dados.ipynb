{
 "cells": [
  {
   "cell_type": "markdown",
   "id": "1205e238",
   "metadata": {},
   "source": [
    "### Usando NumPy e Pandas Para Manipulação de Dados"
   ]
  },
  {
   "cell_type": "code",
   "execution_count": null,
   "id": "cea2ed5f",
   "metadata": {},
   "outputs": [],
   "source": [
    "# Importando a bibliotecas\n",
    "import pandas as pd\n",
    "import numpy as np"
   ]
  },
  {
   "cell_type": "code",
   "execution_count": null,
   "id": "0f8c7d95",
   "metadata": {},
   "outputs": [],
   "source": [
    "# Criando uma dicionário\n",
    "dados = {\n",
    "    'Estado': ['Santa Catarina', 'Rio de Janeiro', 'Fortaleza', 'Bahia', 'Minas Gerais'],\n",
    "    'Ano': [2004, 2005, 2006, 2007, 2008],\n",
    "    'Taxa de Desemprego': [1.5, 1.7, 1.6, 2.4, 2.7]\n",
    "}"
   ]
  },
  {
   "cell_type": "code",
   "execution_count": null,
   "id": "1304cecb",
   "metadata": {},
   "outputs": [],
   "source": [
    "# Transformando em dataframe\n",
    "df = pd.DataFrame(dados)"
   ]
  },
  {
   "cell_type": "code",
   "execution_count": null,
   "id": "6fb93468",
   "metadata": {},
   "outputs": [],
   "source": [
    "# Organizando, adicionando as colunas e indices\n",
    "df = pd.DataFrame(dados,\n",
    "                  columns= ['Estado', 'Taxa de Desemprego', 'Taxa Crescimento', 'Ano'],\n",
    "                  index= ['estado1','estado2','estado3','estado4','estado5'])"
   ]
  },
  {
   "cell_type": "code",
   "execution_count": null,
   "id": "4975e69b",
   "metadata": {},
   "outputs": [],
   "source": [
    "# Exibindo o DataFrame\n",
    "display(df)"
   ]
  },
  {
   "cell_type": "code",
   "execution_count": null,
   "id": "f45ed5c4",
   "metadata": {},
   "outputs": [],
   "source": [
    "# Resumo estatístico do Dataframe\n",
    "df.describe()"
   ]
  },
  {
   "cell_type": "code",
   "execution_count": null,
   "id": "f9271d36",
   "metadata": {},
   "outputs": [],
   "source": [
    "# Verificando valores ausentes no dataframe\n",
    "# True = tem valores ausentes\n",
    "# False = não tem valores ausentes\n",
    "df.isna()"
   ]
  },
  {
   "cell_type": "code",
   "execution_count": null,
   "id": "9c942f5f",
   "metadata": {},
   "outputs": [],
   "source": [
    "# Verificando valores ausentes de apenas uma coluna\n",
    "df['Taxa Crescimento'].isna()"
   ]
  },
  {
   "cell_type": "code",
   "execution_count": null,
   "id": "4a5c1274",
   "metadata": {},
   "outputs": [],
   "source": [
    "# Usando Numpy para alimentar uma coluna\n",
    "df['Taxa Crescimento'] = np.arange(5.)"
   ]
  },
  {
   "cell_type": "code",
   "execution_count": null,
   "id": "818a5b23",
   "metadata": {},
   "outputs": [],
   "source": [
    "display(df)"
   ]
  }
 ],
 "metadata": {
  "kernelspec": {
   "display_name": "Python 3",
   "language": "python",
   "name": "python3"
  },
  "language_info": {
   "codemirror_mode": {
    "name": "ipython",
    "version": 3
   },
   "file_extension": ".py",
   "mimetype": "text/x-python",
   "name": "python",
   "nbconvert_exporter": "python",
   "pygments_lexer": "ipython3",
   "version": "3.12.4"
  }
 },
 "nbformat": 4,
 "nbformat_minor": 5
}
