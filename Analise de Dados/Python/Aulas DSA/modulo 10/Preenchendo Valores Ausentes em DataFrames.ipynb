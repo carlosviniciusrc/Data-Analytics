{
 "cells": [
  {
   "cell_type": "markdown",
   "id": "33d29dfb",
   "metadata": {},
   "source": [
    "### Preenchendo Valores Ausentes em DataFrames\n",
    "\n",
    "A função fillna0 é usada para preencher os valores ausentes. A função oferece muitas opções. Podemos usar um valor específico, uma função agregada (por exemplo, média) ou o valor anterior ou seguinte.\n",
    "Para esse exemplo usaremos a moda, a estatística que representa o valor que aparece mais vezes em uma variável."
   ]
  },
  {
   "cell_type": "code",
   "execution_count": null,
   "id": "d817f2d2",
   "metadata": {},
   "outputs": [],
   "source": [
    "# Importando a biblioteca\n",
    "import pandas as pd"
   ]
  },
  {
   "cell_type": "code",
   "execution_count": null,
   "id": "9a899e21",
   "metadata": {},
   "outputs": [],
   "source": [
    "#Importando Dataset\n",
    "df = pd.read_csv(\"dados/dataset.csv\")"
   ]
  },
  {
   "cell_type": "code",
   "execution_count": null,
   "id": "8e1124b1",
   "metadata": {},
   "outputs": [],
   "source": [
    "# Mostrando as 5 primeiras linhas do dataset\n",
    "df.head()"
   ]
  },
  {
   "cell_type": "code",
   "execution_count": null,
   "id": "f98df012",
   "metadata": {},
   "outputs": [],
   "source": [
    "# Verificando os valores vazios:\n",
    "# Para isso vamos utilizar .isna() e sum(), pois a união dos dois eles vão somar o\n",
    "# numero de valores vazios por coluna e exibir.\n",
    "df.isna().sum()"
   ]
  },
  {
   "cell_type": "markdown",
   "id": "5dd0ea1b",
   "metadata": {},
   "source": [
    "#### Fazendo a Interpolação dos Dados\n",
    "\n",
    "A interpolação é uma técnica essencial em análise de dados para lidar com valores ausentes, mas deve ser aplicada com um entendimento claro do seu significado e das características dos seus dados.\n",
    "\n",
    "Neste caso, vamos aplicar a moda para ver qual o valor com mais frequência e substituir os valores NaN(ausentes) por o valor com maior frequência.\n",
    "\n",
    "A moda em Estatística é uma medida de tendência central que representa o valor mais frequente em um conjunto de dados.\n",
    "\n",
    "A moda é especialmente útil quando queremos saber qual é o valor mais comum ou popular em um conjunto de dados, seja em uma distribuição unimodal (com apenas uma moda) ou em uma distribuição bimodal (com duas modas)."
   ]
  },
  {
   "cell_type": "code",
   "execution_count": null,
   "id": "d215d7f4",
   "metadata": {},
   "outputs": [],
   "source": [
    "# Extraindo a moda da coluna Quantidade\n",
    "# Vamos utilizar .valuecounts() para contar quantas vezes cada valor aparece na coluna,\n",
    "# e com o .index vamos pegar o valor que aparece em destaque\n",
    "moda = df['Quantidade'].value_counts().index[0]"
   ]
  },
  {
   "cell_type": "code",
   "execution_count": null,
   "id": "5198c679",
   "metadata": {},
   "outputs": [],
   "source": [
    "# Exibindo a moda\n",
    "print(moda)"
   ]
  },
  {
   "cell_type": "code",
   "execution_count": null,
   "id": "4aff536b",
   "metadata": {},
   "outputs": [],
   "source": [
    "# Preenchendo os valores vazios\n",
    "# Para preencher os valores vazios vamos utilizar o .fillna() que é usado para preencher \n",
    "# valores ausentes (NaN) em um DataFrame. Com isso, vamos colocar no parametro value= \n",
    "# o valor da variavel moda para fazer a interpolção. O inplace para salvar direto no objeto,\n",
    "# sem precisar fazer uma cópia para outra variável.\n",
    "df['Quantidade']= df['Quantidade'].fillna(value=moda)"
   ]
  },
  {
   "cell_type": "code",
   "execution_count": null,
   "id": "1701ba5e",
   "metadata": {},
   "outputs": [],
   "source": [
    "# Verificando se ainda tem valores vazios\n",
    "df.isna().sum()"
   ]
  },
  {
   "cell_type": "code",
   "execution_count": null,
   "id": "2e03eab3",
   "metadata": {},
   "outputs": [],
   "source": [
    "# Exibindo a base atualizada\n",
    "df.head(5)"
   ]
  }
 ],
 "metadata": {
  "kernelspec": {
   "display_name": "Python 3",
   "language": "python",
   "name": "python3"
  },
  "language_info": {
   "codemirror_mode": {
    "name": "ipython",
    "version": 3
   },
   "file_extension": ".py",
   "mimetype": "text/x-python",
   "name": "python",
   "nbconvert_exporter": "python",
   "pygments_lexer": "ipython3",
   "version": "3.12.4"
  }
 },
 "nbformat": 4,
 "nbformat_minor": 5
}
