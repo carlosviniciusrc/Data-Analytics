{
 "cells": [
  {
   "cell_type": "markdown",
   "id": "495142c0",
   "metadata": {},
   "source": [
    "### Replace de Strings em DataFrames do Pandas\n",
    "\n",
    "Se for necessário substituir caracteres dentro de uma string o Pandas oferece uma função para isso também.\n",
    "\n",
    "Por exemplo, vamos substituir 2 caracteres em uma das colunas.\n",
    "\n",
    "O método .replace() é uma das funções de string mais úteis e diretas em Python.\n",
    "\n",
    "Ele serve para criar uma nova string onde todas as ocorrências de uma determinada substring são substituídas por outra.\n",
    "\n",
    "Sintaxe:\n",
    "string.replace(valor_antigo, valor_novo, contagem_maxima)\n",
    "\n",
    "valor_antigo: A substring que você deseja procurar e substituir.\n",
    "\n",
    "valor_novo: A substring que você deseja colocar no lugar da antiga.\n",
    "\n",
    "contagem_maxima (opcional): O número máximo de substituições a serem feitas. Se omitido, todas as ocorrências serão substituídas."
   ]
  },
  {
   "cell_type": "code",
   "execution_count": null,
   "id": "35c97f2e",
   "metadata": {},
   "outputs": [],
   "source": [
    "# Importando biblioteca\n",
    "import pandas as pd"
   ]
  },
  {
   "cell_type": "code",
   "execution_count": null,
   "id": "106410cf",
   "metadata": {},
   "outputs": [],
   "source": [
    "# Importando dados\n",
    "df = pd.read_csv(\"dados/dataset.csv\")"
   ]
  },
  {
   "cell_type": "code",
   "execution_count": null,
   "id": "97c30e18",
   "metadata": {},
   "outputs": [],
   "source": [
    "# Atualizando a tabela\n",
    "\n",
    "# Alterando os valores ausentes\n",
    "df['Quantidade'] = df.Quantidade.fillna(value=3.0)\n",
    "\n",
    "# Criando a coluna ano\n",
    "df['Ano'] = df['ID_Pedido'].str.split('-').str[1]"
   ]
  },
  {
   "cell_type": "code",
   "execution_count": null,
   "id": "e1871a5a",
   "metadata": {},
   "outputs": [],
   "source": [
    "# Exibindo tabela\n",
    "df.head()"
   ]
  },
  {
   "cell_type": "code",
   "execution_count": null,
   "id": "c6bfaf54",
   "metadata": {},
   "outputs": [],
   "source": [
    "# Substituindo os caracteres CG por AX na coluna 'ID_cliente'\n",
    "df['ID_Cliente']= df['ID_Cliente'].str.replace('CG', 'AX')"
   ]
  },
  {
   "cell_type": "code",
   "execution_count": null,
   "id": "27391ee4",
   "metadata": {},
   "outputs": [],
   "source": [
    "# Exibindo atualização\n",
    "df.head()"
   ]
  },
  {
   "cell_type": "markdown",
   "id": "52fda0fc",
   "metadata": {},
   "source": [
    "### Combinação de Strings em DataFrames do Pandas\n",
    "\n",
    "A função cat() pode ser usada para concatenar strings em um dataframe do Pandas.\n",
    "\n",
    "Vamos criar uma nova coluna concatenando as colunas \"ID_Pedido\" e \"Segmento\" com o separador \"-\".\n",
    "\n",
    ".cat é a ferramenta essencial no Pandas para manipular e extrair informações de colunas que foram otimizadas como dados categóricos, oferecendo melhor performance, menor uso de memória e funcionalidades específicas de ordenação e manipulação de categorias."
   ]
  },
  {
   "cell_type": "code",
   "execution_count": null,
   "id": "3696e072",
   "metadata": {},
   "outputs": [],
   "source": [
    "# Exibindo df\n",
    "df.head()"
   ]
  },
  {
   "cell_type": "code",
   "execution_count": null,
   "id": "e821d1ae",
   "metadata": {},
   "outputs": [],
   "source": [
    "# Concatenando string - Combinando a coluna ID_Pedido + Segmento\n",
    "df['Pedido_Segmento'] = df['ID_Pedido'].str.cat(df['Segmento'], sep = '-')"
   ]
  }
 ],
 "metadata": {
  "kernelspec": {
   "display_name": "Python 3",
   "language": "python",
   "name": "python3"
  },
  "language_info": {
   "codemirror_mode": {
    "name": "ipython",
    "version": 3
   },
   "file_extension": ".py",
   "mimetype": "text/x-python",
   "name": "python",
   "nbconvert_exporter": "python",
   "pygments_lexer": "ipython3",
   "version": "3.12.4"
  }
 },
 "nbformat": 4,
 "nbformat_minor": 5
}
