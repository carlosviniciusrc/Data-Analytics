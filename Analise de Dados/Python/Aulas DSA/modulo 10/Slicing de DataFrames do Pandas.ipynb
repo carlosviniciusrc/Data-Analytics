{
 "cells": [
  {
   "cell_type": "markdown",
   "id": "f2c38423",
   "metadata": {},
   "source": [
    "### Slicing de DataFrames do Pandas"
   ]
  },
  {
   "cell_type": "code",
   "execution_count": 1,
   "id": "7baed49b",
   "metadata": {},
   "outputs": [],
   "source": [
    "# Importando as Bibliotecas\n",
    "import pandas as pd\n",
    "import numpy as np"
   ]
  },
  {
   "cell_type": "code",
   "execution_count": 2,
   "id": "a940786e",
   "metadata": {},
   "outputs": [],
   "source": [
    "# Meus dados\n",
    "dados = {\n",
    "    'Estado': ['Santa Catarina', 'Rio de Janeiro', 'Fortaleza', 'Bahia', 'Minas Gerais'],\n",
    "    'Ano': [2004, 2005, 2006, 2007, 2008],\n",
    "    'Taxa de Desemprego': [1.5, 1.7, 1.6, 2.4, 2.7]\n",
    "}"
   ]
  },
  {
   "cell_type": "code",
   "execution_count": 3,
   "id": "e9e0bbc8",
   "metadata": {},
   "outputs": [],
   "source": [
    "# Transformando em Dataframe e organizando as informações\n",
    "df = pd.DataFrame(dados, columns=['Estado','Taxa de Desemprego','Taxa de crescimento', 'Ano'], \n",
    "                  index=['estado1','estado2','estado3', 'estado4', 'estado5'])"
   ]
  },
  {
   "cell_type": "code",
   "execution_count": 4,
   "id": "9f4cc53a",
   "metadata": {},
   "outputs": [
    {
     "data": {
      "text/html": [
       "<div>\n",
       "<style scoped>\n",
       "    .dataframe tbody tr th:only-of-type {\n",
       "        vertical-align: middle;\n",
       "    }\n",
       "\n",
       "    .dataframe tbody tr th {\n",
       "        vertical-align: top;\n",
       "    }\n",
       "\n",
       "    .dataframe thead th {\n",
       "        text-align: right;\n",
       "    }\n",
       "</style>\n",
       "<table border=\"1\" class=\"dataframe\">\n",
       "  <thead>\n",
       "    <tr style=\"text-align: right;\">\n",
       "      <th></th>\n",
       "      <th>Estado</th>\n",
       "      <th>Taxa de Desemprego</th>\n",
       "      <th>Taxa de crescimento</th>\n",
       "      <th>Ano</th>\n",
       "    </tr>\n",
       "  </thead>\n",
       "  <tbody>\n",
       "    <tr>\n",
       "      <th>estado1</th>\n",
       "      <td>Santa Catarina</td>\n",
       "      <td>1.5</td>\n",
       "      <td>NaN</td>\n",
       "      <td>2004</td>\n",
       "    </tr>\n",
       "    <tr>\n",
       "      <th>estado2</th>\n",
       "      <td>Rio de Janeiro</td>\n",
       "      <td>1.7</td>\n",
       "      <td>NaN</td>\n",
       "      <td>2005</td>\n",
       "    </tr>\n",
       "    <tr>\n",
       "      <th>estado3</th>\n",
       "      <td>Fortaleza</td>\n",
       "      <td>1.6</td>\n",
       "      <td>NaN</td>\n",
       "      <td>2006</td>\n",
       "    </tr>\n",
       "    <tr>\n",
       "      <th>estado4</th>\n",
       "      <td>Bahia</td>\n",
       "      <td>2.4</td>\n",
       "      <td>NaN</td>\n",
       "      <td>2007</td>\n",
       "    </tr>\n",
       "    <tr>\n",
       "      <th>estado5</th>\n",
       "      <td>Minas Gerais</td>\n",
       "      <td>2.7</td>\n",
       "      <td>NaN</td>\n",
       "      <td>2008</td>\n",
       "    </tr>\n",
       "  </tbody>\n",
       "</table>\n",
       "</div>"
      ],
      "text/plain": [
       "                 Estado  Taxa de Desemprego Taxa de crescimento   Ano\n",
       "estado1  Santa Catarina                 1.5                 NaN  2004\n",
       "estado2  Rio de Janeiro                 1.7                 NaN  2005\n",
       "estado3       Fortaleza                 1.6                 NaN  2006\n",
       "estado4           Bahia                 2.4                 NaN  2007\n",
       "estado5    Minas Gerais                 2.7                 NaN  2008"
      ]
     },
     "metadata": {},
     "output_type": "display_data"
    }
   ],
   "source": [
    "# Exibindo as informações\n",
    "display(df)"
   ]
  },
  {
   "cell_type": "code",
   "execution_count": 5,
   "id": "a62eb6c1",
   "metadata": {},
   "outputs": [],
   "source": [
    "# Inserindo dados com NumPy\n",
    "df['Taxa de crescimento'] = np.arange(5.)"
   ]
  },
  {
   "cell_type": "code",
   "execution_count": 6,
   "id": "b119c189",
   "metadata": {},
   "outputs": [
    {
     "data": {
      "text/html": [
       "<div>\n",
       "<style scoped>\n",
       "    .dataframe tbody tr th:only-of-type {\n",
       "        vertical-align: middle;\n",
       "    }\n",
       "\n",
       "    .dataframe tbody tr th {\n",
       "        vertical-align: top;\n",
       "    }\n",
       "\n",
       "    .dataframe thead th {\n",
       "        text-align: right;\n",
       "    }\n",
       "</style>\n",
       "<table border=\"1\" class=\"dataframe\">\n",
       "  <thead>\n",
       "    <tr style=\"text-align: right;\">\n",
       "      <th></th>\n",
       "      <th>Estado</th>\n",
       "      <th>Taxa de Desemprego</th>\n",
       "      <th>Taxa de crescimento</th>\n",
       "      <th>Ano</th>\n",
       "    </tr>\n",
       "  </thead>\n",
       "  <tbody>\n",
       "    <tr>\n",
       "      <th>estado1</th>\n",
       "      <td>Santa Catarina</td>\n",
       "      <td>1.5</td>\n",
       "      <td>0.0</td>\n",
       "      <td>2004</td>\n",
       "    </tr>\n",
       "    <tr>\n",
       "      <th>estado2</th>\n",
       "      <td>Rio de Janeiro</td>\n",
       "      <td>1.7</td>\n",
       "      <td>1.0</td>\n",
       "      <td>2005</td>\n",
       "    </tr>\n",
       "    <tr>\n",
       "      <th>estado3</th>\n",
       "      <td>Fortaleza</td>\n",
       "      <td>1.6</td>\n",
       "      <td>2.0</td>\n",
       "      <td>2006</td>\n",
       "    </tr>\n",
       "    <tr>\n",
       "      <th>estado4</th>\n",
       "      <td>Bahia</td>\n",
       "      <td>2.4</td>\n",
       "      <td>3.0</td>\n",
       "      <td>2007</td>\n",
       "    </tr>\n",
       "    <tr>\n",
       "      <th>estado5</th>\n",
       "      <td>Minas Gerais</td>\n",
       "      <td>2.7</td>\n",
       "      <td>4.0</td>\n",
       "      <td>2008</td>\n",
       "    </tr>\n",
       "  </tbody>\n",
       "</table>\n",
       "</div>"
      ],
      "text/plain": [
       "                 Estado  Taxa de Desemprego  Taxa de crescimento   Ano\n",
       "estado1  Santa Catarina                 1.5                  0.0  2004\n",
       "estado2  Rio de Janeiro                 1.7                  1.0  2005\n",
       "estado3       Fortaleza                 1.6                  2.0  2006\n",
       "estado4           Bahia                 2.4                  3.0  2007\n",
       "estado5    Minas Gerais                 2.7                  4.0  2008"
      ]
     },
     "metadata": {},
     "output_type": "display_data"
    }
   ],
   "source": [
    "# Exibindo as informações atualizadas\n",
    "display(df)"
   ]
  },
  {
   "cell_type": "markdown",
   "id": "300999ae",
   "metadata": {},
   "source": [
    "Aplicando Slicing(Fatiamento)"
   ]
  },
  {
   "cell_type": "code",
   "execution_count": 7,
   "id": "8421d8e0",
   "metadata": {},
   "outputs": [
    {
     "data": {
      "text/html": [
       "<div>\n",
       "<style scoped>\n",
       "    .dataframe tbody tr th:only-of-type {\n",
       "        vertical-align: middle;\n",
       "    }\n",
       "\n",
       "    .dataframe tbody tr th {\n",
       "        vertical-align: top;\n",
       "    }\n",
       "\n",
       "    .dataframe thead th {\n",
       "        text-align: right;\n",
       "    }\n",
       "</style>\n",
       "<table border=\"1\" class=\"dataframe\">\n",
       "  <thead>\n",
       "    <tr style=\"text-align: right;\">\n",
       "      <th></th>\n",
       "      <th>Estado</th>\n",
       "      <th>Taxa de Desemprego</th>\n",
       "      <th>Taxa de crescimento</th>\n",
       "      <th>Ano</th>\n",
       "    </tr>\n",
       "  </thead>\n",
       "  <tbody>\n",
       "    <tr>\n",
       "      <th>estado2</th>\n",
       "      <td>Rio de Janeiro</td>\n",
       "      <td>1.7</td>\n",
       "      <td>1.0</td>\n",
       "      <td>2005</td>\n",
       "    </tr>\n",
       "    <tr>\n",
       "      <th>estado3</th>\n",
       "      <td>Fortaleza</td>\n",
       "      <td>1.6</td>\n",
       "      <td>2.0</td>\n",
       "      <td>2006</td>\n",
       "    </tr>\n",
       "    <tr>\n",
       "      <th>estado4</th>\n",
       "      <td>Bahia</td>\n",
       "      <td>2.4</td>\n",
       "      <td>3.0</td>\n",
       "      <td>2007</td>\n",
       "    </tr>\n",
       "  </tbody>\n",
       "</table>\n",
       "</div>"
      ],
      "text/plain": [
       "                 Estado  Taxa de Desemprego  Taxa de crescimento   Ano\n",
       "estado2  Rio de Janeiro                 1.7                  1.0  2005\n",
       "estado3       Fortaleza                 1.6                  2.0  2006\n",
       "estado4           Bahia                 2.4                  3.0  2007"
      ]
     },
     "execution_count": 7,
     "metadata": {},
     "output_type": "execute_result"
    }
   ],
   "source": [
    "# Filtando apenas o estado2 ao estado4\n",
    "df['estado2':'estado4']"
   ]
  },
  {
   "cell_type": "code",
   "execution_count": 10,
   "id": "bf4106e5",
   "metadata": {},
   "outputs": [
    {
     "data": {
      "text/html": [
       "<div>\n",
       "<style scoped>\n",
       "    .dataframe tbody tr th:only-of-type {\n",
       "        vertical-align: middle;\n",
       "    }\n",
       "\n",
       "    .dataframe tbody tr th {\n",
       "        vertical-align: top;\n",
       "    }\n",
       "\n",
       "    .dataframe thead th {\n",
       "        text-align: right;\n",
       "    }\n",
       "</style>\n",
       "<table border=\"1\" class=\"dataframe\">\n",
       "  <thead>\n",
       "    <tr style=\"text-align: right;\">\n",
       "      <th></th>\n",
       "      <th>Estado</th>\n",
       "      <th>Taxa de Desemprego</th>\n",
       "      <th>Taxa de crescimento</th>\n",
       "      <th>Ano</th>\n",
       "    </tr>\n",
       "  </thead>\n",
       "  <tbody>\n",
       "    <tr>\n",
       "      <th>estado1</th>\n",
       "      <td>Santa Catarina</td>\n",
       "      <td>1.5</td>\n",
       "      <td>0.0</td>\n",
       "      <td>2004</td>\n",
       "    </tr>\n",
       "    <tr>\n",
       "      <th>estado2</th>\n",
       "      <td>Rio de Janeiro</td>\n",
       "      <td>1.7</td>\n",
       "      <td>1.0</td>\n",
       "      <td>2005</td>\n",
       "    </tr>\n",
       "    <tr>\n",
       "      <th>estado3</th>\n",
       "      <td>Fortaleza</td>\n",
       "      <td>1.6</td>\n",
       "      <td>2.0</td>\n",
       "      <td>2006</td>\n",
       "    </tr>\n",
       "  </tbody>\n",
       "</table>\n",
       "</div>"
      ],
      "text/plain": [
       "                 Estado  Taxa de Desemprego  Taxa de crescimento   Ano\n",
       "estado1  Santa Catarina                 1.5                  0.0  2004\n",
       "estado2  Rio de Janeiro                 1.7                  1.0  2005\n",
       "estado3       Fortaleza                 1.6                  2.0  2006"
      ]
     },
     "execution_count": 10,
     "metadata": {},
     "output_type": "execute_result"
    }
   ],
   "source": [
    "# Filtando linhas que tem o valor de desemprego menor que 2\n",
    "df[ df['Taxa de Desemprego'] < 2 ]"
   ]
  }
 ],
 "metadata": {
  "kernelspec": {
   "display_name": "Python 3",
   "language": "python",
   "name": "python3"
  },
  "language_info": {
   "codemirror_mode": {
    "name": "ipython",
    "version": 3
   },
   "file_extension": ".py",
   "mimetype": "text/x-python",
   "name": "python",
   "nbconvert_exporter": "python",
   "pygments_lexer": "ipython3",
   "version": "3.12.4"
  }
 },
 "nbformat": 4,
 "nbformat_minor": 5
}
