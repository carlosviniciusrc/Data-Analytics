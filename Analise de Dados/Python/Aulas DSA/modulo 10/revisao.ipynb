{
 "cells": [
  {
   "cell_type": "markdown",
   "id": "7acf18d3",
   "metadata": {},
   "source": [
    "### Revisão"
   ]
  },
  {
   "cell_type": "markdown",
   "id": "d1429e50",
   "metadata": {},
   "source": [
    "Manipulando Dados no Pandas"
   ]
  },
  {
   "cell_type": "code",
   "execution_count": null,
   "id": "2f547f7a",
   "metadata": {},
   "outputs": [],
   "source": [
    "# Importando a Biblioteca\n",
    "import pandas as pd"
   ]
  },
  {
   "cell_type": "code",
   "execution_count": null,
   "id": "1c924006",
   "metadata": {},
   "outputs": [],
   "source": [
    "# Dicionário\n",
    "# Obs: Quando o pandas.DataFrame() recebe isso, ele espera que cada valor seja uma lista ou array,\n",
    "# caso contrário não sabe como estruturar em linhas/colunas.\n",
    "base = {\n",
    "    'nome': ['Vinicius','Maria','Carlos','Emilly'],\n",
    "    'idade': [24, 60, 58, 24],\n",
    "    'sexo': ['Masculino', 'Feminino', 'Masculino', 'Feminino']\n",
    "}"
   ]
  },
  {
   "cell_type": "code",
   "execution_count": null,
   "id": "940fd142",
   "metadata": {},
   "outputs": [],
   "source": [
    "# Criando Dataframe e exibindo o mesmo\n",
    "df = pd.DataFrame(base)\n",
    "display(df)"
   ]
  },
  {
   "cell_type": "code",
   "execution_count": null,
   "id": "fec51ed7",
   "metadata": {},
   "outputs": [],
   "source": [
    "# Criando uma nova coluna\n",
    "df = pd.DataFrame(base, columns=['nome', 'idade', 'sexo', 'senha'])"
   ]
  },
  {
   "cell_type": "code",
   "execution_count": null,
   "id": "971ff8ea",
   "metadata": {},
   "outputs": [],
   "source": [
    "# Exibindo as 5 primeiras linhas\n",
    "df.head()"
   ]
  },
  {
   "cell_type": "code",
   "execution_count": null,
   "id": "0f12948e",
   "metadata": {},
   "outputs": [],
   "source": [
    "# Adicionando indices personalizados e organizando a tabela\n",
    "indice = ['cliente1', 'cliente2', 'cliente3','cliente4']\n",
    "df = pd.DataFrame(base,columns=['senha','nome','idade', 'sexo' ], index= indice)\n",
    "df.head()"
   ]
  },
  {
   "cell_type": "code",
   "execution_count": null,
   "id": "7b6810cb",
   "metadata": {},
   "outputs": [],
   "source": [
    "# Exibindo apenas uma coluna\n",
    "display(df['nome'])"
   ]
  },
  {
   "cell_type": "code",
   "execution_count": null,
   "id": "e0c3374f",
   "metadata": {},
   "outputs": [],
   "source": [
    "# Exibindo apenas duas colunas\n",
    "display(df[['nome', 'idade']])"
   ]
  },
  {
   "cell_type": "markdown",
   "id": "e08881c5",
   "metadata": {},
   "source": [
    "Utilizando NumPy para inserir dados para uma coluna"
   ]
  },
  {
   "cell_type": "code",
   "execution_count": null,
   "id": "7ed6b5c3",
   "metadata": {},
   "outputs": [],
   "source": [
    "# Importando a biblioteca\n",
    "import numpy"
   ]
  },
  {
   "cell_type": "code",
   "execution_count": null,
   "id": "58e6faa0",
   "metadata": {},
   "outputs": [],
   "source": [
    "# Inserindo valores\n",
    "df['senha'] = numpy.arange(1,5)"
   ]
  },
  {
   "cell_type": "code",
   "execution_count": null,
   "id": "b92f1f68",
   "metadata": {},
   "outputs": [],
   "source": [
    "# Exibindo a tabela atualizada\n",
    "display(df)"
   ]
  },
  {
   "cell_type": "code",
   "execution_count": null,
   "id": "2533b0f8",
   "metadata": {},
   "outputs": [],
   "source": [
    "# Exibindo apenas um cliente utizando filter(filtrar)\n",
    "df.filter(items=['cliente2'], axis=0)"
   ]
  },
  {
   "cell_type": "markdown",
   "id": "dadfddda",
   "metadata": {},
   "source": [
    "### Fatiamento de DataFrame no Pandas"
   ]
  },
  {
   "cell_type": "code",
   "execution_count": null,
   "id": "f1b29592",
   "metadata": {},
   "outputs": [],
   "source": [
    "# Utilizando fatiamento para filtrar as linhas\n",
    "df['cliente2':'cliente4']"
   ]
  },
  {
   "cell_type": "code",
   "execution_count": null,
   "id": "07da89a6",
   "metadata": {},
   "outputs": [],
   "source": [
    "# Filtando e estabelecendo uma condição para o DataFrame\n",
    "df[df['idade'] <= 25]\n"
   ]
  },
  {
   "cell_type": "markdown",
   "id": "2c42599c",
   "metadata": {},
   "source": [
    "Preenchendo Valores Ausentes em DataFrames"
   ]
  },
  {
   "cell_type": "code",
   "execution_count": null,
   "id": "e073b65d",
   "metadata": {},
   "outputs": [],
   "source": [
    "# Importando Dataset\n",
    "df2 = pd.read_csv(\"dados/dataset.csv\")"
   ]
  },
  {
   "cell_type": "code",
   "execution_count": null,
   "id": "99dd34ac",
   "metadata": {},
   "outputs": [],
   "source": [
    "display(df2)"
   ]
  },
  {
   "cell_type": "code",
   "execution_count": null,
   "id": "3d255907",
   "metadata": {},
   "outputs": [],
   "source": [
    "# Verificadano a quantidade valores ausentes\n",
    "df2.isna().sum()"
   ]
  },
  {
   "cell_type": "code",
   "execution_count": null,
   "id": "ba7d0c6f",
   "metadata": {},
   "outputs": [],
   "source": [
    "# Realizando a Interpolação para os valores ausentes, e com isso vou utilizar\n",
    "# a moda para ver o valor que mais se repete no DataF\n",
    "moda = df2['Quantidade'].value_counts().index[0]"
   ]
  },
  {
   "cell_type": "code",
   "execution_count": null,
   "id": "c3b9ceed",
   "metadata": {},
   "outputs": [],
   "source": [
    "# Exibindo a moda\n",
    "print(moda)"
   ]
  },
  {
   "cell_type": "code",
   "execution_count": null,
   "id": "2c7b18f4",
   "metadata": {},
   "outputs": [],
   "source": [
    "# Preeenchendo os valores ausentes com fillna\n",
    "df2['Quantidade'] = df2['Quantidade'].fillna(value=moda)"
   ]
  },
  {
   "cell_type": "code",
   "execution_count": null,
   "id": "5bfdf5aa",
   "metadata": {},
   "outputs": [],
   "source": [
    "# Verificando novamente se ainda possui valores ausentes\n",
    "df2.isna().sum()"
   ]
  },
  {
   "cell_type": "code",
   "execution_count": null,
   "id": "7c06be0a",
   "metadata": {},
   "outputs": [],
   "source": [
    "# exbibindo o Df atualizado\n",
    "display(df2)"
   ]
  },
  {
   "cell_type": "markdown",
   "id": "b476d419",
   "metadata": {},
   "source": [
    "### Query (Consulta) de Dados no DataFrame do Pandas"
   ]
  },
  {
   "cell_type": "code",
   "execution_count": null,
   "id": "e0901e58",
   "metadata": {},
   "outputs": [],
   "source": [
    "# Exibindo a tabela\n",
    "df2.head()"
   ]
  },
  {
   "cell_type": "code",
   "execution_count": null,
   "id": "08b76ff2",
   "metadata": {},
   "outputs": [],
   "source": [
    "# O método .query() é uma das minhas ferramentas favoritas na biblioteca pandas. \n",
    "# É uma forma muito poderosa e, ao mesmo tempo, elegante e legível de filtrar linhas \n",
    "# de um DataFrame com base em uma ou mais condições.\n",
    "\n",
    "query2 = df2.query(\"Regiao not in 'South'\")"
   ]
  },
  {
   "cell_type": "code",
   "execution_count": null,
   "id": "fe683c1b",
   "metadata": {},
   "outputs": [],
   "source": [
    "# Exibindo o filtro\n",
    "display(query2)"
   ]
  },
  {
   "cell_type": "markdown",
   "id": "3f3de708",
   "metadata": {},
   "source": [
    "### Verificando a Ocorrência de Diversos Valores em Uma Coluna\n",
    "\n",
    "Em nosso conjunto de dados de exemplo temos a coluna Quantidade que representa a quantidade de itens vendidos em cada uma das vendas. Imagine que precisamos saber em quais vendas foram vendidos 5, 7, 9 ou 11 itens.\n",
    "\n",
    "Como aplicaríamos esse tipo de filtro ao nosso dataframe?\n",
    "\n",
    "Fácil. O Pandas oferece o método isin0 para checar diversos valores em uma coluna. Quem conhece Linguagem SQL já deve ter percebido que o método é o mesmo que a cláusula IN em SQL. Vamos ao exemplo.\n"
   ]
  },
  {
   "cell_type": "code",
   "execution_count": null,
   "id": "f4e9a1a3",
   "metadata": {},
   "outputs": [],
   "source": [
    "df2[df2['Quantidade'].isin([5,7,9,11])].head()"
   ]
  },
  {
   "cell_type": "code",
   "execution_count": null,
   "id": "45f07b09",
   "metadata": {},
   "outputs": [],
   "source": [
    "segm = df2.query(\"Segmento == 'Home Office' and Regiao == 'South'\")"
   ]
  },
  {
   "cell_type": "code",
   "execution_count": null,
   "id": "4f74bfc4",
   "metadata": {},
   "outputs": [],
   "source": [
    "display(segm)"
   ]
  },
  {
   "cell_type": "markdown",
   "id": "4eda1bef",
   "metadata": {},
   "source": [
    "### Agrupamento de Dados em DataFrames com Group By\n",
    "\n",
    "A função Pandas Groupby é uma função versátil e fácil de usar que ajuda a obter uma visão geral dos dados. Isso torna mais fácil explorar o conjunto de dados e revelar os relacionamentos entre as variáveis.\n",
    "\n",
    "O código a seguir agrupará as linhas com base nas combinações Segmento/RegiaoNalor_Venda e nos dará a taxa média de vendas de cada grupo."
   ]
  },
  {
   "cell_type": "code",
   "execution_count": null,
   "id": "e6a0799a",
   "metadata": {},
   "outputs": [],
   "source": [
    "# Aplicando Groupy By\n",
    "# É como SQL, você vai selecionar as colunas que deseja fazer o agrupamento, e no final vai\n",
    "# selecionar alguma agregação (sum, mean, count, etc.).\n",
    "# Resumo:\n",
    "# coloca a variavel que está dataframe, depois seleciona as colunas que deseja agrupar, após\n",
    "# vai inserir o método .groupby(), e dentro do é vai colocar as colunas de agrupamento, mas\n",
    "# não vai colocar a coluna que deseja fazer a agregação\n",
    "df2[['Segmento', 'Regiao', 'Valor_Venda']].groupby(['Segmento', 'Regiao']).mean()"
   ]
  },
  {
   "cell_type": "markdown",
   "id": "3e7eb22c",
   "metadata": {},
   "source": [
    "### Agregação Múltipla com Group By\n",
    "\n",
    "Vamos explorar mais a função groupby() pois temos diversas opções de sumarização dos dados de forma simples. No exemplo abaixo uniremos a função group by com a função agg() para realiza agregação múltipla."
   ]
  },
  {
   "cell_type": "code",
   "execution_count": null,
   "id": "a88f6d88",
   "metadata": {},
   "outputs": [],
   "source": [
    "# Na agragação multipla é no mesmo esquema, mas caso queira realizar mais de uma agregação você\n",
    "# vai utilizar .agg()\n",
    "\n",
    "df2[['Segmento', 'Regiao', 'Valor_Venda']].groupby(['Segmento', 'Regiao']).agg(['mean','std','count'])"
   ]
  },
  {
   "cell_type": "markdown",
   "id": "f5781a76",
   "metadata": {},
   "source": [
    "### Filtrando DataFrame do Pandas com Base em Strings\n",
    "\n",
    "O Pandas oferece diversas funções para manipulação de strings. Começaremos com o filtros de strings com base nas letras iniciais e finais.\n",
    "\n",
    "As funções startswith() e endswith() são muito úteis quando for necessário filtrar strings por caracteres que apareçam no começo e/ou final."
   ]
  },
  {
   "cell_type": "code",
   "execution_count": null,
   "id": "4f07a1b4",
   "metadata": {},
   "outputs": [],
   "source": [
    "# Filtrando pelo inicio da str\n",
    "df2[df2.Segmento.str.startswith('Con')].head()"
   ]
  },
  {
   "cell_type": "code",
   "execution_count": null,
   "id": "9cac78d5",
   "metadata": {},
   "outputs": [],
   "source": [
    "# FIltrando pelo final da str\n",
    "df2[df2.Segmento.str.endswith('mer')].head()"
   ]
  }
 ],
 "metadata": {
  "kernelspec": {
   "display_name": "Python 3",
   "language": "python",
   "name": "python3"
  },
  "language_info": {
   "codemirror_mode": {
    "name": "ipython",
    "version": 3
   },
   "file_extension": ".py",
   "mimetype": "text/x-python",
   "name": "python",
   "nbconvert_exporter": "python",
   "pygments_lexer": "ipython3",
   "version": "3.12.4"
  }
 },
 "nbformat": 4,
 "nbformat_minor": 5
}
