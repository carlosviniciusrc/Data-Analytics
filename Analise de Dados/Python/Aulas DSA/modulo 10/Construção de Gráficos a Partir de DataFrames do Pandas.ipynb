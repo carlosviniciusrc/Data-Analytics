{
 "cells": [
  {
   "cell_type": "markdown",
   "id": "196ab2ff",
   "metadata": {},
   "source": [
    "### Construção de Gráficos a Partir de DataFrames do Pandas\n",
    "\n",
    "Vimos até aqui diversas funcionalidades do Pandas que tornam o processo de manipulação de dados realmente simples. E para concluir este capítulo vamos estudar as opções que o Pandas oferece para criação de gráficos diretamente a partir de dataframes, sem a necessidade de usar qualquer outra biblioteca.\n",
    "\n",
    "Acompanhe os exemplos."
   ]
  },
  {
   "cell_type": "code",
   "execution_count": null,
   "id": "7ad91d9e",
   "metadata": {},
   "outputs": [],
   "source": [
    "# Importando biblioteca\n",
    "import sklearn as sk"
   ]
  },
  {
   "cell_type": "code",
   "execution_count": null,
   "id": "4c8b871c",
   "metadata": {},
   "outputs": [],
   "source": [
    "# Verificando a versão\n",
    "sk.__version__"
   ]
  },
  {
   "cell_type": "code",
   "execution_count": null,
   "id": "7aebd2fb",
   "metadata": {},
   "outputs": [],
   "source": []
  }
 ],
 "metadata": {
  "kernelspec": {
   "display_name": "Python 3",
   "language": "python",
   "name": "python3"
  },
  "language_info": {
   "codemirror_mode": {
    "name": "ipython",
    "version": 3
   },
   "file_extension": ".py",
   "mimetype": "text/x-python",
   "name": "python",
   "nbconvert_exporter": "python",
   "pygments_lexer": "ipython3",
   "version": "3.12.4"
  }
 },
 "nbformat": 4,
 "nbformat_minor": 5
}
