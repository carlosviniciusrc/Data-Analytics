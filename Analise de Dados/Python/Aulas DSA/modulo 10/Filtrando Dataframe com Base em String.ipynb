{
 "cells": [
  {
   "cell_type": "markdown",
   "id": "e2c7e092",
   "metadata": {},
   "source": [
    "### Filtrando DataFrame do Pandas com Base em Strings\n",
    "\n",
    "O Pandas oferece diversas funções para manipulação de strings. Começaremos com o filtros de strings com base nas letras iniciais e finais.\n",
    "\n",
    "As funções startswith() e endswith() são muito úteis quando for necessário filtrar strings por caracteres que apareçam no começo e/ou final."
   ]
  },
  {
   "cell_type": "code",
   "execution_count": null,
   "id": "1ba64ea7",
   "metadata": {},
   "outputs": [],
   "source": [
    "# Importando a biblioteca\n",
    "import pandas as pd"
   ]
  },
  {
   "cell_type": "code",
   "execution_count": null,
   "id": "02ab82ba",
   "metadata": {},
   "outputs": [],
   "source": [
    "# Criando o dataframe e corrigindo os valores vazios\n",
    "df = pd.read_csv(\"dados/dataset.csv\")\n",
    "\n",
    "df['Quantidade'] = df['Quantidade'].fillna(value=3.0)"
   ]
  },
  {
   "cell_type": "code",
   "execution_count": null,
   "id": "9fb76b04",
   "metadata": {},
   "outputs": [],
   "source": [
    "# Exibindo a tabela\n",
    "df.head()"
   ]
  },
  {
   "cell_type": "code",
   "execution_count": null,
   "id": "aa64deb6",
   "metadata": {},
   "outputs": [],
   "source": [
    "# Filtrando o dataframe pela coluna Segmento com valores que iniciam com as letras 'Con'.\n",
    "# dataframe[dataframe.tipo_de_busca.Começar_com('str')]\n",
    "df[df.Segmento.str.startswith('Con')].head()"
   ]
  },
  {
   "cell_type": "code",
   "execution_count": null,
   "id": "c2cdc8cd",
   "metadata": {},
   "outputs": [],
   "source": [
    "# Filtrando o dataframe pela coluna Segmento com valores que terminam com as letras 'mer'.\n",
    "df[df.Segmento.str.endswith('mer')].head()"
   ]
  }
 ],
 "metadata": {
  "kernelspec": {
   "display_name": "Python 3",
   "language": "python",
   "name": "python3"
  },
  "language_info": {
   "codemirror_mode": {
    "name": "ipython",
    "version": 3
   },
   "file_extension": ".py",
   "mimetype": "text/x-python",
   "name": "python",
   "nbconvert_exporter": "python",
   "pygments_lexer": "ipython3",
   "version": "3.12.4"
  }
 },
 "nbformat": 4,
 "nbformat_minor": 5
}
