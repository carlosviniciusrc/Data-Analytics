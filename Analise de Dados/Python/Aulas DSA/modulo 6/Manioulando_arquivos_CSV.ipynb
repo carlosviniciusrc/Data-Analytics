{
 "cells": [
  {
   "cell_type": "markdown",
   "id": "fe52c9b1",
   "metadata": {},
   "source": [
    "#### Manipulando Arquivos CSV\n",
    "\n",
    "CSV (Comma-Separated Values) é um formato de arquivo que armazena dados tabulares em formato de texto plano. Cada linha do arquivo CSV representa uma linha da tabela e as colunas são separadas por vírgulas. É amplamente utilizado para exportar e importar dados em diferentes aplicações, como planilhas e banco de dados. CSV é uma opção simples e universal para compartilhar dados, pois pode ser aberto e editado com muitos aplicativos\n",
    "diferentes, incluindo programas de planilha e editores de texto."
   ]
  },
  {
   "cell_type": "code",
   "execution_count": 10,
   "id": "95e5a447",
   "metadata": {},
   "outputs": [],
   "source": [
    "import csv"
   ]
  },
  {
   "cell_type": "code",
   "execution_count": 11,
   "id": "68e85664",
   "metadata": {},
   "outputs": [],
   "source": [
    "# criando arquivo CSV\n",
    "with open('arquivos/notas.csv', 'w', encoding='utf8', newline='') as arquivo:\n",
    "\n",
    "    # Criando módulo de gravação\n",
    "    banco = csv.writer(arquivo)\n",
    "\n",
    "    # Gravando as informações\n",
    "    # O write row grava apenas uma linha com strings. No arqgumento deve ser \n",
    "    # passado lista ou tuplas.\n",
    "    banco.writerow(('nota1','nota2', 'nota3'))\n",
    "    banco.writerow((10,9,7))\n",
    "    banco.writerow((8,7,9))"
   ]
  },
  {
   "cell_type": "code",
   "execution_count": 12,
   "id": "7bf56b7a",
   "metadata": {},
   "outputs": [
    {
     "name": "stdout",
     "output_type": "stream",
     "text": [
      "['nota1', 'nota2', 'nota3']\n",
      "['10', '9', '7']\n",
      "['8', '7', '9']\n"
     ]
    }
   ],
   "source": [
    "# Lendo o arquivo CSV\n",
    "with open('arquivos/notas.csv', 'r', encoding ='utf8', newline = '\\r\\n') as arquivo:\n",
    "\n",
    "    # Criando modulo para leitura\n",
    "    leitor = csv.reader(arquivo)\n",
    "\n",
    "    # Loop para imprimir cada linha do objeto\n",
    "    for row in leitor:\n",
    "        print(row)"
   ]
  },
  {
   "cell_type": "code",
   "execution_count": 13,
   "id": "46922a19",
   "metadata": {},
   "outputs": [
    {
     "name": "stdout",
     "output_type": "stream",
     "text": [
      "[['nota1', 'nota2', 'nota3'], ['10', '9', '7'], ['8', '7', '9']]\n"
     ]
    }
   ],
   "source": [
    "# Gerando uma lista de dados com arquivo CSV\n",
    "with open('arquivos/notas.csv', 'r') as arquivo:\n",
    "    leitor = csv.reader(arquivo)\n",
    "    lista_de_dados = list(leitor)\n",
    "    print(lista_de_dados)"
   ]
  },
  {
   "cell_type": "code",
   "execution_count": null,
   "id": "6e0b10ec",
   "metadata": {},
   "outputs": [],
   "source": [
    "# Extraindo somento os valores das notas\n",
    "# Este [1:] vai fazer o fatiamento da lista que filtra a exibição dos dados\n",
    "# a partir da segunda linha.\n",
    "for linha in lista_de_dados[1:]:\n",
    "    print(linha)"
   ]
  }
 ],
 "metadata": {
  "kernelspec": {
   "display_name": "Python 3",
   "language": "python",
   "name": "python3"
  },
  "language_info": {
   "codemirror_mode": {
    "name": "ipython",
    "version": 3
   },
   "file_extension": ".py",
   "mimetype": "text/x-python",
   "name": "python",
   "nbconvert_exporter": "python",
   "pygments_lexer": "ipython3",
   "version": "3.12.4"
  }
 },
 "nbformat": 4,
 "nbformat_minor": 5
}
