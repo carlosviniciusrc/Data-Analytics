{
 "cells": [
  {
   "cell_type": "markdown",
   "id": "9f592f27",
   "metadata": {},
   "source": [
    "### Abrindo Dataset em Linha única"
   ]
  },
  {
   "cell_type": "code",
   "execution_count": 32,
   "id": "ccfb9a89",
   "metadata": {},
   "outputs": [],
   "source": [
    "# Para iniciar a leitura do arquivo\n",
    "dados = open(\"arquivos/salarios.csv\", \"r\")"
   ]
  },
  {
   "cell_type": "code",
   "execution_count": 33,
   "id": "3c283329",
   "metadata": {},
   "outputs": [],
   "source": [
    "# atribuindo os dados lidos a uma variavel\n",
    "dados_lidos = dados.read()"
   ]
  },
  {
   "cell_type": "code",
   "execution_count": 34,
   "id": "de778da6",
   "metadata": {},
   "outputs": [],
   "source": [
    "# Utilizando o split para dividir as informações a partir da quebra de linha\n",
    "rows = dados_lidos.split('\\n')"
   ]
  },
  {
   "cell_type": "code",
   "execution_count": null,
   "id": "44a625e9",
   "metadata": {},
   "outputs": [],
   "source": [
    "# Exibindo o arquivo em apenas uma linha\n",
    "display(rows)"
   ]
  },
  {
   "cell_type": "code",
   "execution_count": 36,
   "id": "c936bc7f",
   "metadata": {},
   "outputs": [],
   "source": [
    "# fechando o arquivo\n",
    "dados.close()"
   ]
  },
  {
   "cell_type": "markdown",
   "id": "b4c8a95e",
   "metadata": {},
   "source": [
    "### Dividindo um arquivo em colunas"
   ]
  },
  {
   "cell_type": "code",
   "execution_count": 2,
   "id": "ee8d8e88",
   "metadata": {},
   "outputs": [],
   "source": [
    "# Para iniciar a leitura do arquivo\n",
    "dados = open(\"arquivos/salarios.csv\", \"r\")"
   ]
  },
  {
   "cell_type": "code",
   "execution_count": 3,
   "id": "83c6948f",
   "metadata": {},
   "outputs": [],
   "source": [
    "# atribuindo os dados lidos a uma variavel\n",
    "dados_lidos = dados.read()"
   ]
  },
  {
   "cell_type": "code",
   "execution_count": 4,
   "id": "8047a488",
   "metadata": {},
   "outputs": [],
   "source": [
    "# Utilizando o split para dividir as informações a partir da quebra de linha\n",
    "rows = dados_lidos.split('\\n')"
   ]
  },
  {
   "cell_type": "code",
   "execution_count": 5,
   "id": "b1325f79",
   "metadata": {},
   "outputs": [],
   "source": [
    "#Criando uma lista vazia para armazenar os dados\n",
    "full_data = []"
   ]
  },
  {
   "cell_type": "code",
   "execution_count": 6,
   "id": "5d0e7289",
   "metadata": {},
   "outputs": [],
   "source": [
    "# Para cada linha (string) na lista rows.\n",
    "# Divide a string onde há vírgulas.\n",
    "# O CSV é separado por vírgulas, então isso gera uma lista com as colunas.\n",
    "for row in rows:\n",
    "    split_row = row.split(',')\n",
    "    full_data.append(split_row)"
   ]
  },
  {
   "cell_type": "code",
   "execution_count": null,
   "id": "07809c94",
   "metadata": {},
   "outputs": [],
   "source": [
    "# Exibindo o arquivo em apenas uma linha\n",
    "display(full_data)"
   ]
  },
  {
   "cell_type": "code",
   "execution_count": 8,
   "id": "7b96bfd4",
   "metadata": {},
   "outputs": [],
   "source": [
    "# fechando o arquivo\n",
    "dados.close()"
   ]
  },
  {
   "cell_type": "markdown",
   "id": "c2a9abc9",
   "metadata": {},
   "source": [
    "### Contando as linhas de um arquivo\n"
   ]
  },
  {
   "cell_type": "code",
   "execution_count": 9,
   "id": "0295d52d",
   "metadata": {},
   "outputs": [],
   "source": [
    "# Iniciando a leitura do arquivo\n",
    "with open(\"arquivos/salarios.csv\",\"r\") as f:\n",
    "    # Atribuindo o arquivo lido a uma variavel\n",
    "    data = f.read()\n",
    "    # fazendo a quebra de linha para dividir as linhas\n",
    "    rows = data.split('\\n')"
   ]
  },
  {
   "cell_type": "code",
   "execution_count": 10,
   "id": "32686c34",
   "metadata": {},
   "outputs": [],
   "source": [
    "# Criando um loop para separar as strigs por virgula\n",
    "full_data = []\n",
    "for row in rows:\n",
    "    split_row = row.split(',')\n",
    "    full_data.append(split_row)"
   ]
  },
  {
   "cell_type": "code",
   "execution_count": null,
   "id": "5d2ac7c1",
   "metadata": {},
   "outputs": [],
   "source": [
    "# numerando as linhas:\n",
    "count = 0\n",
    "for row in full_data:\n",
    "    count += 1\n",
    "\n",
    "print(count)"
   ]
  },
  {
   "cell_type": "markdown",
   "id": "f44aca96",
   "metadata": {},
   "source": [
    "### Contando o número de colunas de um arquivo"
   ]
  },
  {
   "cell_type": "code",
   "execution_count": null,
   "id": "2d9d711b",
   "metadata": {},
   "outputs": [],
   "source": [
    "with open(\"arquivos/salarios.csv\",\"r\") as f:\n",
    "    data = f.read()\n",
    "    rows = data.split('\\n')\n",
    "    full_data = []\n",
    "\n",
    "    for row in rows:\n",
    "        split_row = row.split(',')\n",
    "        full_data.append(split_row)\n",
    "        first_row = full_data[0]\n",
    "    \n",
    "    count = 0\n",
    "    for columm in first_row:\n",
    "        count += 1\n",
    "\n",
    "    print(count)"
   ]
  }
 ],
 "metadata": {
  "kernelspec": {
   "display_name": "Python 3",
   "language": "python",
   "name": "python3"
  },
  "language_info": {
   "codemirror_mode": {
    "name": "ipython",
    "version": 3
   },
   "file_extension": ".py",
   "mimetype": "text/x-python",
   "name": "python",
   "nbconvert_exporter": "python",
   "pygments_lexer": "ipython3",
   "version": "3.12.4"
  }
 },
 "nbformat": 4,
 "nbformat_minor": 5
}
