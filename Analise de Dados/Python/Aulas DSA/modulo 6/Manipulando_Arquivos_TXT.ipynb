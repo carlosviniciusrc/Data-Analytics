{
 "cells": [
  {
   "cell_type": "markdown",
   "id": "3dfe3a53",
   "metadata": {},
   "source": [
    "### Manipulando Arquivo TXT\n",
    "\n",
    "TXT é a extensão de arquivo para arquivos de texto puro. Um arquivo TXT é um arquivo de texto simples sem formatação, como negrito, itálico ou fontes diferentes. Ele pode ser aberto e editado com muitos aplicativos diferentes, incluindo editores de texto, processadores de texto e IDES. Arquivos TXT são amplamente utilizados para armazenar dados de texto simples, como listas, notas e documentos de texto. Eles são universais e podem ser lidos em praticamente qualquer dispositivo ou sistema operacional."
   ]
  },
  {
   "cell_type": "code",
   "execution_count": null,
   "id": "b6093584",
   "metadata": {},
   "outputs": [],
   "source": [
    "texto = \"Cientista de dados pode ser uma excelente alternativa de carrreira.\\n\"\n",
    "texto = texto + \"Esses profissionais precisam saber como programar em Python. \"\n",
    "texto += \"E, claro, devem ser proficientes em Data Science. \""
   ]
  },
  {
   "cell_type": "code",
   "execution_count": null,
   "id": "28c58f36",
   "metadata": {},
   "outputs": [],
   "source": [
    "print(texto)"
   ]
  },
  {
   "cell_type": "code",
   "execution_count": null,
   "id": "15185abf",
   "metadata": {},
   "outputs": [],
   "source": [
    "# importanto o modulo OS\n",
    "import os"
   ]
  },
  {
   "cell_type": "code",
   "execution_count": null,
   "id": "a9fff50c",
   "metadata": {},
   "outputs": [],
   "source": [
    "# Criando arquivo\n",
    "# os.path.join(...) é usado para montar caminhos de forma portável entre \n",
    "# sistemas operacionais (Linux, Windows, macOS). Por exemplo:\n",
    "# Em Linux/Mac: 'arquivos/cientistas.txt'\n",
    "# Em Windows: 'arquivos\\\\cientistas.txt'\n",
    "\n",
    "# Embora nesse caso o caminho já pareça simples, usar os.path.join() \n",
    "# é uma boa prática para garantir compatibilidade.\n",
    "\n",
    "arquivo = open(os.path.join('arquivos/cientistas.txt'), 'w')"
   ]
  },
  {
   "cell_type": "code",
   "execution_count": null,
   "id": "14acfe1c",
   "metadata": {},
   "outputs": [],
   "source": [
    "# Gravando dados no arquivo\n",
    "# O split sem parametro faz a separação por espaço\n",
    "\n",
    "for palavra in texto.split():\n",
    "    arquivo.write(palavra + ' ')"
   ]
  },
  {
   "cell_type": "code",
   "execution_count": null,
   "id": "651a1b4e",
   "metadata": {},
   "outputs": [],
   "source": [
    "# fechando o Arquivo\n",
    "arquivo.close()"
   ]
  },
  {
   "cell_type": "code",
   "execution_count": null,
   "id": "2bb2cd6e",
   "metadata": {},
   "outputs": [],
   "source": [
    "# Lendo o Arquivo\n",
    "arquivo = open(\"arquivos/cientistas.txt\", \"r\")\n",
    "conteudo = arquivo.read()\n",
    "arquivo.close()\n",
    "\n",
    "print(conteudo)"
   ]
  },
  {
   "cell_type": "markdown",
   "id": "44a6dd67",
   "metadata": {},
   "source": [
    "### Usando a Expresssão With\n",
    "\n",
    "O método close() é executando automaticamente"
   ]
  },
  {
   "cell_type": "code",
   "execution_count": null,
   "id": "03321b85",
   "metadata": {},
   "outputs": [],
   "source": [
    "with open('arquivos/cientistas.txt', 'r') as arquivo:\n",
    "    conteudo = arquivo.read()"
   ]
  },
  {
   "cell_type": "code",
   "execution_count": null,
   "id": "5a261f77",
   "metadata": {},
   "outputs": [],
   "source": [
    "# Número de caracteres no arquivo\n",
    "print(len(conteudo))\n",
    "\n",
    "# Exibindo o arquivo\n",
    "print(conteudo)"
   ]
  },
  {
   "cell_type": "code",
   "execution_count": null,
   "id": "c64135c4",
   "metadata": {},
   "outputs": [],
   "source": [
    "with open('arquivos/cientistas.txt', 'w') as arquivo:\n",
    "    arquivo.write(texto[:19])\n",
    "    arquivo.write('\\n')\n",
    "    arquivo.write(texto[28:66])"
   ]
  },
  {
   "cell_type": "code",
   "execution_count": null,
   "id": "c93d9b2a",
   "metadata": {},
   "outputs": [],
   "source": [
    "with open('arquivos/cientistas.txt', 'r') as arquivo:\n",
    "    conteudo = arquivo.read()\n",
    "    print(conteudo)"
   ]
  }
 ],
 "metadata": {
  "kernelspec": {
   "display_name": "Python 3",
   "language": "python",
   "name": "python3"
  },
  "language_info": {
   "codemirror_mode": {
    "name": "ipython",
    "version": 3
   },
   "file_extension": ".py",
   "mimetype": "text/x-python",
   "name": "python",
   "nbconvert_exporter": "python",
   "pygments_lexer": "ipython3",
   "version": "3.12.4"
  }
 },
 "nbformat": 4,
 "nbformat_minor": 5
}
