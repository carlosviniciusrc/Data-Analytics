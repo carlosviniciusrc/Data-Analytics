{
 "cells": [
  {
   "cell_type": "markdown",
   "id": "b60445f7",
   "metadata": {},
   "source": [
    "#### Manipulando Arquivos JSON (Java Script Object Notation )\n",
    "\n",
    "JSON (JavaScript Object Notation) é um formato de dados de texto simples e leve que é utilizado para transmitir informações em aplicações web. É baseado\n",
    "em uma estrutura de objetos JavaScript e usa pares de chave-valor para representar dados. JSON é facilmente lido e escrito por máquinas e é amplamente\n",
    "utilizado como formato de intercâmbio de dados em aplicações web modernas."
   ]
  },
  {
   "cell_type": "code",
   "execution_count": 1,
   "id": "6a34693c",
   "metadata": {},
   "outputs": [],
   "source": [
    "# Criando dicionário\n",
    "pesssoa = {\n",
    "    'nome': 'Vinicius',\n",
    "    'idade': 23,\n",
    "    'cidade': 'Fortaleza'\n",
    "}"
   ]
  },
  {
   "cell_type": "code",
   "execution_count": 2,
   "id": "3e065cae",
   "metadata": {},
   "outputs": [
    {
     "name": "stdout",
     "output_type": "stream",
     "text": [
      "nome: Vinicius\n",
      "idade: 23\n",
      "cidade: Fortaleza\n"
     ]
    }
   ],
   "source": [
    "# Exibindo as chaves e valores\n",
    "for k,v in pesssoa.items():\n",
    "    print(f'{k}: {v}')"
   ]
  },
  {
   "cell_type": "code",
   "execution_count": 3,
   "id": "f2cd8626",
   "metadata": {},
   "outputs": [],
   "source": [
    "# Importando o módulo JSON\n",
    "import json"
   ]
  },
  {
   "cell_type": "code",
   "execution_count": 4,
   "id": "d024a00a",
   "metadata": {},
   "outputs": [
    {
     "data": {
      "text/plain": [
       "'{\"nome\": \"Vinicius\", \"idade\": 23, \"cidade\": \"Fortaleza\"}'"
      ]
     },
     "execution_count": 4,
     "metadata": {},
     "output_type": "execute_result"
    }
   ],
   "source": [
    "# convertendo o dicionário para um objeto JSON\n",
    "# json.dumps() = Converte um objeto Python (como um dicionário ou lista) \n",
    "# em uma string JSON\n",
    "json.dumps(pesssoa)"
   ]
  },
  {
   "cell_type": "code",
   "execution_count": 5,
   "id": "e96223d7",
   "metadata": {},
   "outputs": [],
   "source": [
    "# Criando um arquivo JSON\n",
    "with open('arquivos/cadastro.json', 'w') as cadastro:\n",
    "    cadastro.write(json.dumps(pesssoa))"
   ]
  },
  {
   "cell_type": "code",
   "execution_count": null,
   "id": "7ba001ed",
   "metadata": {},
   "outputs": [
    {
     "name": "stdout",
     "output_type": "stream",
     "text": [
      "{'nome': 'Vinicius', 'idade': 23, 'cidade': 'Fortaleza'}\n"
     ]
    }
   ],
   "source": [
    "# Exibindo um arquivo json\n",
    "with open('arquivos/cadastro.json', 'r') as cadastro:\n",
    "    text = cadastro.read()\n",
    "    # json.load() = Lê um arquivo JSON e o converte diretamente para uma \n",
    "    # estrutura Python (como dicionário ou lista).\n",
    "    dados = json.loads(text)\n",
    "    print(dados)"
   ]
  },
  {
   "cell_type": "code",
   "execution_count": 7,
   "id": "5f4aee70",
   "metadata": {},
   "outputs": [
    {
     "name": "stdout",
     "output_type": "stream",
     "text": [
      "Vinicius\n"
     ]
    }
   ],
   "source": [
    "# Exibindo por chaves\n",
    "print(dados['nome'])"
   ]
  },
  {
   "cell_type": "markdown",
   "id": "0d7de1b6",
   "metadata": {},
   "source": [
    "### Manipulando Arquivos JSON em Python e Extração de Arquivo da Web"
   ]
  },
  {
   "cell_type": "code",
   "execution_count": 10,
   "id": "01f49a77",
   "metadata": {},
   "outputs": [
    {
     "data": {
      "text/plain": [
       "{'id': 57733101,\n",
       " 'title': 'The Good Man trailer',\n",
       " 'description': 'Trailer for the Manifesto Films production, The Good Man, now available in UK/Ireland/US/Canada/Australia/New Zealand on iTunes (https://itunes.apple.com/us/movie/the-good-man/id873130906) and DVD (http://www.amazon.co.uk/The-Good-Man-Aiden-Gillen/dp/B00IIK6CGU/). Co-production with Jet Black Entertainment (South Africa). Starring Aidan Gillen, Thabang Sidloyi, Kelly Campbell, Lunathi Mampofu. Written & directed by Phil Harrison. More info at www.thegoodmanfilm.com<br />\\r\\n<br />\\r\\nCheck out the Variety Magazine review here: http://www.variety.com/review/VE1117947909/',\n",
       " 'url': 'https://vimeo.com/57733101',\n",
       " 'upload_date': '2013-01-19 04:01:15',\n",
       " 'thumbnail_small': 'https://i.vimeocdn.com/video/436057121-e828a1f5478ec0136e957753d107f2a1268c64def9b82faac37c8e30c031cff2-d_100x75?region=us',\n",
       " 'thumbnail_medium': 'https://i.vimeocdn.com/video/436057121-e828a1f5478ec0136e957753d107f2a1268c64def9b82faac37c8e30c031cff2-d_200x150?region=us',\n",
       " 'thumbnail_large': 'https://i.vimeocdn.com/video/436057121-e828a1f5478ec0136e957753d107f2a1268c64def9b82faac37c8e30c031cff2-d_640?region=us',\n",
       " 'user_id': 1334563,\n",
       " 'user_name': 'Manifesto Films',\n",
       " 'user_url': 'https://vimeo.com/manifestofilms',\n",
       " 'user_portrait_small': 'https://i.vimeocdn.com/portrait/4778306_30x30?sig=dce4bd41e32adf3305ffd0a161ae27a5c919bba5773cf2f2c3ca5be075726518&v=1&region=us',\n",
       " 'user_portrait_medium': 'https://i.vimeocdn.com/portrait/4778306_75x75?sig=dce4bd41e32adf3305ffd0a161ae27a5c919bba5773cf2f2c3ca5be075726518&v=1&region=us',\n",
       " 'user_portrait_large': 'https://i.vimeocdn.com/portrait/4778306_100x100?sig=dce4bd41e32adf3305ffd0a161ae27a5c919bba5773cf2f2c3ca5be075726518&v=1&region=us',\n",
       " 'user_portrait_huge': 'https://i.vimeocdn.com/portrait/4778306_300x300?sig=dce4bd41e32adf3305ffd0a161ae27a5c919bba5773cf2f2c3ca5be075726518&v=1&region=us',\n",
       " 'stats_number_of_likes': 19,\n",
       " 'stats_number_of_plays': 6888,\n",
       " 'stats_number_of_comments': 2,\n",
       " 'duration': 143,\n",
       " 'width': 1024,\n",
       " 'height': 576,\n",
       " 'tags': 'belfast, cape town, africa, ireland, film',\n",
       " 'embed_privacy': 'anywhere'}"
      ]
     },
     "metadata": {},
     "output_type": "display_data"
    }
   ],
   "source": [
    "# Imprimindo um arquivo JSON copiado da internet\n",
    "# Essa função permite abrir e ler URLs, especialmente para acessar dados via HTTP ou HTTPS.\n",
    "from urllib.request import urlopen\n",
    "# Atribuindo a abertura da URL em uma variável\n",
    "response = urlopen(\"http://vimeo.com/api/v2/video/57733101.json\").read().decode('utf8')\n",
    "# Carregando a variavel com o pacote JSON, pois vai converter o arquivo JSON\n",
    "# para a estrutura Python.\n",
    "dados = json.loads(response)[0]\n",
    "# Exibindo os dados\n",
    "display(dados)"
   ]
  },
  {
   "cell_type": "code",
   "execution_count": 11,
   "id": "f399faa5",
   "metadata": {},
   "outputs": [
    {
     "name": "stdout",
     "output_type": "stream",
     "text": [
      "Titulo:  The Good Man trailer\n",
      "URL:  https://vimeo.com/57733101\n",
      "Duração:  143\n",
      "Numero de visualizações:  6888\n"
     ]
    }
   ],
   "source": [
    "# Exibindo as informações a partir das chaves\n",
    "print('Titulo: ', dados['title'])\n",
    "print('URL: ', dados['url'])\n",
    "print('Duração: ', dados['duration'])\n",
    "print('Numero de visualizações: ', dados['stats_number_of_plays'])"
   ]
  },
  {
   "cell_type": "markdown",
   "id": "f82b3009",
   "metadata": {},
   "source": [
    "Copiando o conteúdo para outro arquivo."
   ]
  },
  {
   "cell_type": "code",
   "execution_count": 23,
   "id": "bca3d7cf",
   "metadata": {},
   "outputs": [],
   "source": [
    "arquivo_fonte = 'arquivos/cadastro.json'\n",
    "arquivo_destino = 'arquivos/cadastro.txt'"
   ]
  },
  {
   "cell_type": "code",
   "execution_count": null,
   "id": "89b653e4",
   "metadata": {},
   "outputs": [],
   "source": [
    "# metodo 1\n",
    "with open(arquivo_fonte, 'r') as fonte:\n",
    "    text = fonte.read()\n",
    "    with open(arquivo_destino, 'w') as destino:\n",
    "        dados = destino.write(text)"
   ]
  },
  {
   "cell_type": "code",
   "execution_count": null,
   "id": "b442cd0c",
   "metadata": {},
   "outputs": [],
   "source": [
    "# metodo 2\n",
    "open(arquivo_destino, 'w').write(open(arquivo_fonte, 'r').read())"
   ]
  },
  {
   "cell_type": "code",
   "execution_count": null,
   "id": "c46ed52b",
   "metadata": {},
   "outputs": [],
   "source": [
    "# exibindo o arquivo\n",
    "with open('arquivos/cadastro.txt', 'r') as arquivo:\n",
    "    # Lê todo o conteúdo do arquivo e armazena como uma string na variável texto.\n",
    "    texto = arquivo.read()\n",
    "    # Converte a string JSON (texto) em um objeto Python usando a função json.loads(). \n",
    "    # Para isso funcionar, é necessário importar o módulo json.\n",
    "    dados = json.loads(texto)"
   ]
  },
  {
   "cell_type": "code",
   "execution_count": 29,
   "id": "8d1f9b7f",
   "metadata": {},
   "outputs": [
    {
     "name": "stdout",
     "output_type": "stream",
     "text": [
      "{'nome': 'Vinicius', 'idade': 23, 'cidade': 'Fortaleza'}\n"
     ]
    }
   ],
   "source": [
    "print(dados)"
   ]
  }
 ],
 "metadata": {
  "kernelspec": {
   "display_name": "Python 3",
   "language": "python",
   "name": "python3"
  },
  "language_info": {
   "codemirror_mode": {
    "name": "ipython",
    "version": 3
   },
   "file_extension": ".py",
   "mimetype": "text/x-python",
   "name": "python",
   "nbconvert_exporter": "python",
   "pygments_lexer": "ipython3",
   "version": "3.12.4"
  }
 },
 "nbformat": 4,
 "nbformat_minor": 5
}
