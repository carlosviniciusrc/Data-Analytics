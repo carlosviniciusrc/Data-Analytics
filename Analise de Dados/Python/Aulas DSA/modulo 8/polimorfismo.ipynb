{
 "cells": [
  {
   "cell_type": "markdown",
   "id": "39c14c13",
   "metadata": {},
   "source": [
    "#### Trabalhando com Polimorfismo de Classes em Python\n",
    "\n",
    "Polimorfismo é um dos conceitos fundamentais da Programação Orientada a Objetos (POO). O polimorfismo permite que objetos de diferentes classes possam ser tratados de forma uniforme. Isso significa que um objeto pode ser tratado como se fosse um objeto de uma superclasse, mesmo que ele seja de uma subclasse.\n",
    "\n",
    "Mais especificamente, o polimorfismo se refere à habilidade de um objeto responder de diferentes formas a uma mesma mensagem. Isso é possível porque as subclasses podem implementar métodos com o mesmo nome que os métodos da superclasse, mas com comportamentos diferentes.\n",
    "\n",
    "Com o Polimorfismo, os mesmos atributos e métodos podem ser utilizados em objetos distintos, porém, com implementações lógicas diferentes."
   ]
  },
  {
   "cell_type": "code",
   "execution_count": null,
   "id": "e53e7e9b",
   "metadata": {},
   "outputs": [],
   "source": [
    "# SuperClasse\n",
    "\n",
    "class Veiculo:\n",
    "\n",
    "    def __init__(self, marca, modelo):\n",
    "        self.marca = marca\n",
    "        self.modelo = modelo\n",
    "\n",
    "    def acelerar(self):\n",
    "        pass\n",
    "\n",
    "    def frear(self):\n",
    "        pass"
   ]
  },
  {
   "cell_type": "code",
   "execution_count": null,
   "id": "fbf8f658",
   "metadata": {},
   "outputs": [],
   "source": [
    "# Subclasse\n",
    "class Carro(Veiculo):\n",
    "\n",
    "    def acelerar(self):\n",
    "        print(\"O carro está acelerando.\")\n",
    "\n",
    "    def frear(self):\n",
    "        print(\"O carro está freando.\")"
   ]
  },
  {
   "cell_type": "code",
   "execution_count": null,
   "id": "77451663",
   "metadata": {},
   "outputs": [],
   "source": [
    "# Subclasse\n",
    "class Moto(Veiculo):\n",
    "\n",
    "    def acelerar(self):\n",
    "        print(\"A moto está acelerando.\")\n",
    "\n",
    "    def frear(self):\n",
    "        print(\"A moto está freando.\")"
   ]
  },
  {
   "cell_type": "code",
   "execution_count": null,
   "id": "d84cc600",
   "metadata": {},
   "outputs": [],
   "source": [
    "# Subclasse\n",
    "class Aviao(Veiculo):\n",
    "\n",
    "    def acelerar(self):\n",
    "        print(\"O avião está acelerando.\")\n",
    "\n",
    "    def frear(self):\n",
    "        print(\"O avião está freando.\")\n",
    "\n",
    "    def decolar(self):\n",
    "        print(\"O avião está decolando\")"
   ]
  },
  {
   "cell_type": "code",
   "execution_count": null,
   "id": "16ea36ee",
   "metadata": {},
   "outputs": [],
   "source": [
    "# Criando os objetos\n",
    "lista_veiculos = [Carro(\"Honda\", \"Civic\"), Moto(\"Yamaha\",\"Fazer 2025\"), Aviao(\"Boeing\",\"757\")]"
   ]
  },
  {
   "cell_type": "code",
   "execution_count": null,
   "id": "eba49486",
   "metadata": {},
   "outputs": [],
   "source": [
    "# Loop para exibição\n",
    "\n",
    "for item in lista_veiculos:\n",
    "    # Os metodos abaixo terão comportamentos diferentes, pois cada subclasse tem\n",
    "    # suas particularidades.\n",
    "    item.acelerar()\n",
    "    item.frear()\n",
    "\n",
    "    # isinstance() é uma função embutida (ou seja, já vem com o Python) que serve para \n",
    "    # verificar se um determinado objeto é uma instância de uma classe específica ou de \n",
    "    # uma subclasse dela.\n",
    "    # Em termos simples, ela responde à pergunta: \"Este objeto pertence a este tipo \n",
    "    # (ou a um tipo filho deste)?\"\n",
    "    # Sintaxe:\n",
    "    # isinstance(objeto, tipo_ou_tupla_de_tipos)\n",
    "    if isinstance(item, Aviao):\n",
    "        item.decolar()\n",
    "\n",
    "    print('-' * 5)"
   ]
  }
 ],
 "metadata": {
  "kernelspec": {
   "display_name": "Python 3",
   "language": "python",
   "name": "python3"
  },
  "language_info": {
   "codemirror_mode": {
    "name": "ipython",
    "version": 3
   },
   "file_extension": ".py",
   "mimetype": "text/x-python",
   "name": "python",
   "nbconvert_exporter": "python",
   "pygments_lexer": "ipython3",
   "version": "3.12.4"
  }
 },
 "nbformat": 4,
 "nbformat_minor": 5
}
