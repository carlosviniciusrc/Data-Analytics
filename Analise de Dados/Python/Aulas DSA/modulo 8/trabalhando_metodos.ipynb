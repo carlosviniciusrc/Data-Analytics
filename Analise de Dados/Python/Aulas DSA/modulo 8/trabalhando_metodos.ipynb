{
 "cells": [
  {
   "cell_type": "markdown",
   "id": "7fc423fe",
   "metadata": {},
   "source": [
    "#### Trabalhando com Métodos de Classes em Python\n",
    "Em Python, os métodos de classes são funções definidas dentro de uma classe, que realizam operações específicas em objetos criados a partir dessa classe. Os métodos de classes são usados para implementar o comportamento dos objetos que pertencem a essa classe.\n",
    "\n",
    "Assim como as funções em Python, os métodos de classes podem receber argumentos e retornar valores. No entanto, diferentemente das funções normais, os métodos de classes sempre incluem o parâmetro self como o primeiro argumento, que é usado para se referir ao objeto atual da classe.\n",
    "\n",
    "O método _init_ é um método especial que é chamado quando um objeto é criado a partir da classe. Este método é usado para inicializar os atributos do objeto. Outros métodos podem ser definidos para executar tarefas específicas em um objeto, como calcular valores realizar operações de entrada e saída, ou alterar o estado do objeto."
   ]
  },
  {
   "cell_type": "markdown",
   "id": "d5d0c832",
   "metadata": {},
   "source": [
    "#### Panorama Geral: Getters e Setters\n",
    "Este trecho de código apresenta um par de métodos muito comum em classes:\n",
    "\n",
    "setRaio: É um método \"Setter\" (do inglês set, que significa definir/configurar). Sua função é alterar ou definir o valor de um atributo do objeto.\n",
    "\n",
    "getRaio: É um método \"Getter\" (do inglês get, que significa obter/pegar). Sua função é ler ou obter o valor de um atributo do objeto.\n",
    "\n",
    "##### 1. O Método Setter: setRaio(self, novo_raio)\n",
    "Objetivo: Mudar o estado interno do objeto, especificamente o valor do seu raio.\n",
    "\n",
    "def setRaio(...): Define um método chamado setRaio.\n",
    "\n",
    "Self: É uma referência ao próprio objeto. Quando você cria um círculo (meu_circulo = Circulo(10)) e chama meu_circulo.setRaio(15), self dentro do método é o meu_circulo. É assim que o método sabe qual objeto deve modificar.\n",
    "\n",
    "novo_raio: É o parâmetro que carrega o novo valor que você deseja atribuir. No exemplo meu_circulo.setRaio(15), o valor de novo_raio seria 15.\n",
    "\n",
    "self.raio = novo_raio: Esta é a linha principal. Ela pega o valor passado em novo_raio e o armazena no atributo raio do objeto (self). O valor antigo é substituído.\n",
    "\n",
    "##### 2. O Método Getter: getRaio(self)\n",
    "Objetivo: Ler o estado interno do objeto sem permitir a sua modificação direta.\n",
    "\n",
    "def getRaio(...): Define um método chamado getRaio.\n",
    "\n",
    "self: Novamente, refere-se ao objeto específico cuja informação estamos pedindo.\n",
    "\n",
    "return self.raio: Esta linha acessa o atributo raio do objeto (self) e o envia como resultado para quem chamou o método"
   ]
  },
  {
   "cell_type": "code",
   "execution_count": null,
   "id": "9a0a7b65",
   "metadata": {},
   "outputs": [],
   "source": [
    "# Criando uma classe chamada Raio\n",
    "\n",
    "class Circulo():\n",
    "\n",
    "    # O valor de pi é constante\n",
    "    pi = 3.14\n",
    "\n",
    "    # Criando um objeto\n",
    "    # Aqui já passamos o valor do raio para quando alguém não inserir nenhum valor\n",
    "    # o valor automaticamente vai ser 5.\n",
    "    def __init__(self, raio = 5):\n",
    "        self.raio = raio\n",
    "\n",
    "    # Metodo para calcular a área\n",
    "    def area(self):\n",
    "        # Nesse trecho o pi está definido como circulo, pois ele faz parte desta classe\n",
    "        # então, quando temos uma variavel na classe e fora da criação do objeto atribuimos\n",
    "        # ela desta forma.\n",
    "        return (self.raio * self.raio) * Circulo.pi\n",
    "    \n",
    "    # Método para gerar um novo raio\n",
    "    def setRaio(self,novo_raio):\n",
    "        self.raio = novo_raio\n",
    "\n",
    "    # Método para exbir o valor do raio do círculo\n",
    "    def getRaio(self):\n",
    "        return self.raio"
   ]
  },
  {
   "cell_type": "code",
   "execution_count": null,
   "id": "f65dc0ef",
   "metadata": {},
   "outputs": [],
   "source": [
    "# Criando o objeto circ, uma instância da classe Circulo()\n",
    "# Como já passando um valor do raio, não precisamos passar um parâmetro para ele\n",
    "circ = Circulo()"
   ]
  },
  {
   "cell_type": "code",
   "execution_count": null,
   "id": "94eef99c",
   "metadata": {},
   "outputs": [],
   "source": [
    "# Executando um método da classe Circulo para exibir o valor do raio\n",
    "circ.getRaio()"
   ]
  },
  {
   "cell_type": "code",
   "execution_count": null,
   "id": "f0f84cb3",
   "metadata": {},
   "outputs": [],
   "source": [
    "# Criando outro objeto chamado circ1. Uma instância de classe Circulo()\n",
    "# Agora sobreescrevendo o valor do raio\n",
    "circ1 = Circulo(7)"
   ]
  },
  {
   "cell_type": "code",
   "execution_count": null,
   "id": "31179488",
   "metadata": {},
   "outputs": [],
   "source": [
    "# Executando um método da classe Circulo para exibir o novo valor do raio\n",
    "circ1.getRaio()"
   ]
  },
  {
   "cell_type": "code",
   "execution_count": null,
   "id": "f71661a3",
   "metadata": {},
   "outputs": [],
   "source": [
    "# Imprindo os valores\n",
    "\n",
    "# Valor do raio\n",
    "print('O raio é:', circ.getRaio())\n",
    "\n",
    "# Valor da área\n",
    "print('A área é:', circ.area())"
   ]
  },
  {
   "cell_type": "code",
   "execution_count": null,
   "id": "2ad04905",
   "metadata": {},
   "outputs": [],
   "source": [
    "# Agora nesse trecho vamos usar o método para alterar o valor do raio\n",
    "# Obs: O valor do raio por padrão é 5. O método get serve para exibir o valor do raio e\n",
    "# o método set serve para alterar o valor do raio.\n",
    "circ.setRaio(3)"
   ]
  },
  {
   "cell_type": "code",
   "execution_count": null,
   "id": "203e9ca9",
   "metadata": {},
   "outputs": [],
   "source": [
    "# Exibindo o novo valor de circ\n",
    "circ.getRaio()"
   ]
  },
  {
   "cell_type": "code",
   "execution_count": null,
   "id": "606681dc",
   "metadata": {},
   "outputs": [],
   "source": [
    "# Imprimindo o novo raio\n",
    "print('Novo raio igual a:', circ.getRaio())"
   ]
  }
 ],
 "metadata": {
  "kernelspec": {
   "display_name": "Python 3",
   "language": "python",
   "name": "python3"
  },
  "language_info": {
   "codemirror_mode": {
    "name": "ipython",
    "version": 3
   },
   "file_extension": ".py",
   "mimetype": "text/x-python",
   "name": "python",
   "nbconvert_exporter": "python",
   "pygments_lexer": "ipython3",
   "version": "3.12.4"
  }
 },
 "nbformat": 4,
 "nbformat_minor": 5
}
