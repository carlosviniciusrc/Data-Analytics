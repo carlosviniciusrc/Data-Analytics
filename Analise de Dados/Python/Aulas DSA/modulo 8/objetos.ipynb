{
 "cells": [
  {
   "cell_type": "markdown",
   "id": "ccf32dc2",
   "metadata": {},
   "source": [
    "#### Objetos\n",
    "\n",
    "Em python, tudo é objeto!"
   ]
  },
  {
   "cell_type": "code",
   "execution_count": null,
   "id": "0b28fc3f",
   "metadata": {},
   "outputs": [],
   "source": [
    "# Criando uma lista\n",
    "lst_num = [\"Vinicius\", \"Rodrigues\", 4, 4]"
   ]
  },
  {
   "cell_type": "code",
   "execution_count": null,
   "id": "fdaefca6",
   "metadata": {},
   "outputs": [],
   "source": [
    "# A lista lst num é um objeto, uma instância da classe lista em python\n",
    "type(lst_num)"
   ]
  },
  {
   "cell_type": "code",
   "execution_count": null,
   "id": "b675e40b",
   "metadata": {},
   "outputs": [],
   "source": [
    "print(type([]))"
   ]
  },
  {
   "cell_type": "code",
   "execution_count": null,
   "id": "83bc1b04",
   "metadata": {},
   "outputs": [],
   "source": [
    "# Metodos do objeto list\n",
    "lst_num.count(4)"
   ]
  },
  {
   "cell_type": "code",
   "execution_count": null,
   "id": "9bcc8019",
   "metadata": {},
   "outputs": [],
   "source": [
    "# Usamos a função type, para verificar o tipo de um objeto\n",
    "print (type( 10))\n",
    "print (type([]))\n",
    "print ( type({}))\n",
    "print (type('a'))"
   ]
  },
  {
   "cell_type": "code",
   "execution_count": null,
   "id": "6ec2e5da",
   "metadata": {},
   "outputs": [],
   "source": [
    "# Criando uma classe\n",
    "class Funcionarios:\n",
    "    def __init__(self, nome, salario, cargo):\n",
    "        self.nome = nome\n",
    "        self.salario = salario\n",
    "        self.cargo = cargo\n",
    "    \n",
    "    def listFunc(self):\n",
    "        print(\"Funcionário(a) \" + self.nome + \" tem salário de R$\" + str(self.salario) + \" e o cargo é \" + self.cargo)"
   ]
  },
  {
   "cell_type": "code",
   "execution_count": null,
   "id": "a9e92ea7",
   "metadata": {},
   "outputs": [],
   "source": [
    "# Criando um objeto chamado Funci a partir da classe Funcionários\n",
    "func1 = Funcionarios(\"Mary\", 20000, \"Cientista de Dados\")"
   ]
  },
  {
   "cell_type": "code",
   "execution_count": null,
   "id": "1d039900",
   "metadata": {},
   "outputs": [],
   "source": [
    "# Usando o método da classe\n",
    "func1.listFunc()"
   ]
  },
  {
   "cell_type": "code",
   "execution_count": null,
   "id": "ec2248d1",
   "metadata": {},
   "outputs": [],
   "source": [
    "print(\"**** Usando atributos ****\")"
   ]
  },
  {
   "cell_type": "markdown",
   "id": "016623a2",
   "metadata": {},
   "source": [
    "Essas funções são muito úteis quando você:\n",
    "\n",
    "Lê atributos de forma dinâmica (ex: com base em input ou dicionário).\n",
    "\n",
    "Cria objetos em APIs, frameworks ou sistemas que precisam ser flexíveis."
   ]
  },
  {
   "cell_type": "code",
   "execution_count": null,
   "id": "4a6e52e6",
   "metadata": {},
   "outputs": [],
   "source": [
    "# hasattr - Verifica se o atributo existe\n",
    "hasattr(func1, \"nome\")"
   ]
  },
  {
   "cell_type": "code",
   "execution_count": null,
   "id": "61fd5578",
   "metadata": {},
   "outputs": [],
   "source": [
    "hasattr(func1, \"salario\")"
   ]
  },
  {
   "cell_type": "code",
   "execution_count": null,
   "id": "2faac045",
   "metadata": {},
   "outputs": [],
   "source": [
    "# setattr - Cria ou altera um atributo\n",
    "setattr(func1, \"salario\", 1000)"
   ]
  },
  {
   "cell_type": "code",
   "execution_count": null,
   "id": "8cb3f581",
   "metadata": {},
   "outputs": [],
   "source": [
    "hasattr(func1, \"salario\")"
   ]
  },
  {
   "cell_type": "code",
   "execution_count": null,
   "id": "5e870cae",
   "metadata": {},
   "outputs": [],
   "source": [
    "# delattr Remove um atributo\n",
    "delattr(func1, \"salario\")"
   ]
  },
  {
   "cell_type": "code",
   "execution_count": null,
   "id": "b2a37aae",
   "metadata": {},
   "outputs": [],
   "source": [
    "hasattr(func1, \"salario\")"
   ]
  }
 ],
 "metadata": {
  "kernelspec": {
   "display_name": "Python 3",
   "language": "python",
   "name": "python3"
  },
  "language_info": {
   "codemirror_mode": {
    "name": "ipython",
    "version": 3
   },
   "file_extension": ".py",
   "mimetype": "text/x-python",
   "name": "python",
   "nbconvert_exporter": "python",
   "pygments_lexer": "ipython3",
   "version": "3.12.4"
  }
 },
 "nbformat": 4,
 "nbformat_minor": 5
}
