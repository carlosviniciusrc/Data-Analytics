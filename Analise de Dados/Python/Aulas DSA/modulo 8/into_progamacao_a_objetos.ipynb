{
 "cells": [
  {
   "cell_type": "markdown",
   "id": "2e1d07a7",
   "metadata": {},
   "source": [
    "## Programação Orientada a Objetos\n",
    "\n",
    "#### Classes\n",
    "\n",
    "Em Programação Orientada a Objetos (POO), uma classe é uma estrutura que descreve um objeto, especificando os atributos e comportamentos que o objeto deve ter. Uma classe é uma espécie de modelo que define as características e ações que um objeto deve possuir.\n",
    "\n",
    "As classes são usadas para criar objetos, que são instâncias da classe. Cada objeto criado a partir da mesma classe terá os mesrnos atributos e comportamentos.\n",
    "\n",
    "Para criar uma classe em Python, utiliza-se a palavra reservada class.\n",
    "\n",
    "O nome da classe segue a mesma convenção de nomes para criação de funções e variáveis em Python, mas normalmente se usa a primeira letra maiúscula em cada palavra no nome da classe.\n"
   ]
  },
  {
   "cell_type": "code",
   "execution_count": 1,
   "id": "d40b8974",
   "metadata": {},
   "outputs": [],
   "source": [
    "# 🧱 1. Classe\n",
    "# Uma classe é como uma planta ou molde. Ela define quais atributos (dados) e \n",
    "# métodos (funções) um objeto terá.\n",
    "\n",
    "# Exemplo:\n",
    "\n",
    "# class Pessoa:\n",
    "#     def __init__(self, nome, idade):\n",
    "#         self.nome = nome\n",
    "#         self.idade = idade\n",
    "\n",
    "# Explicando:\n",
    "\n",
    "# class Pessoa: → Define uma nova classe chamada Pessoa.\n",
    "\n",
    "# __init__ → Método especial chamado automaticamente ao criar um objeto.\n",
    "\n",
    "# self → Refere-se à própria instância (objeto).\n",
    "\n",
    "# self.nome e self.idade → São atributos da instância."
   ]
  },
  {
   "cell_type": "code",
   "execution_count": 2,
   "id": "17faa980",
   "metadata": {},
   "outputs": [],
   "source": [
    "# Criando uma classe chamada Livro\n",
    "class Livro():\n",
    "    # 2. O Método Construtor (__init__)\n",
    "    # Este método é chamado automaticamente quando um novo objeto é criado.\n",
    "    # 'self' se refere à instância do objeto que está sendo criada.\n",
    "    def __init__(self):\n",
    "\n",
    "        # Atributos são propriedades\n",
    "        self.titulo = 'Pense em Python'\n",
    "        self.codigo =  999080\n",
    "        print(\"Construtor chamado para criar um objeto desta classe\")\n",
    "\n",
    "    # Métodos são funções que executamm ações nos objetos da classe\n",
    "    def exibe(self):\n",
    "        print(\"Foi criado o livro %s com código %d.\" %(self.titulo, self.codigo))"
   ]
  },
  {
   "cell_type": "code",
   "execution_count": 3,
   "id": "11d252a3",
   "metadata": {},
   "outputs": [
    {
     "name": "stdout",
     "output_type": "stream",
     "text": [
      "Construtor chamado para criar um objeto desta classe\n"
     ]
    }
   ],
   "source": [
    "# Crinado una instâncioa da Classe Livro\n",
    "livro1 = Livro()"
   ]
  },
  {
   "cell_type": "code",
   "execution_count": 4,
   "id": "12a2f4cb",
   "metadata": {},
   "outputs": [
    {
     "data": {
      "text/plain": [
       "'Pense em Python'"
      ]
     },
     "execution_count": 4,
     "metadata": {},
     "output_type": "execute_result"
    }
   ],
   "source": [
    "# Chamando atributos do Objeto Livro\n",
    "# 🧩 O que são Atributos em POO?\n",
    "# Eles representam dados armazenados dentro da instância (objeto) de uma classe.\n",
    "livro1.titulo"
   ]
  },
  {
   "cell_type": "code",
   "execution_count": null,
   "id": "10e66245",
   "metadata": {},
   "outputs": [],
   "source": [
    "# Chamando método do Objeto Livro\n",
    "# São as funções definidas dentro da classe, usadas para realizar ações \n",
    "# com os dados (atributos) do objeto.\n",
    "livro1.exibe()"
   ]
  },
  {
   "cell_type": "code",
   "execution_count": null,
   "id": "0c24b8f1",
   "metadata": {},
   "outputs": [],
   "source": [
    "# Criando a classe Livro com parâmetros no método construtor\n",
    "\n",
    "class Livro():\n",
    "\n",
    "    def __init__(self,titulo, isbn):\n",
    "        self.titulo = titulo\n",
    "        self.isbn = isbn\n",
    "        print(\"Construtor chamado para criar um objeto desta classe\")\n",
    "\n",
    "    # Método = ações\n",
    "    def exibe(self, titulo, isbn):\n",
    "        print(\"Foi criado o livro %s com código %d.\" %(titulo, isbn))"
   ]
  },
  {
   "cell_type": "code",
   "execution_count": null,
   "id": "9f137257",
   "metadata": {},
   "outputs": [],
   "source": [
    "# Criando o objeto Livro2 que é uma instancia da classe Livro\n",
    "# Instância é um termo que descreve a relação entre o objeto e a classe.\n",
    "# Quando você cria um objeto a partir de uma classe, dizemos que você instanciou a classe.\n",
    "\n",
    "livro2 = Livro(\"O poder do Hábito\", 805474)"
   ]
  },
  {
   "cell_type": "code",
   "execution_count": null,
   "id": "583a89f6",
   "metadata": {},
   "outputs": [],
   "source": [
    "livro2.titulo"
   ]
  },
  {
   "cell_type": "code",
   "execution_count": null,
   "id": "101dca79",
   "metadata": {},
   "outputs": [],
   "source": [
    "livro2.exibe()"
   ]
  }
 ],
 "metadata": {
  "kernelspec": {
   "display_name": "Python 3",
   "language": "python",
   "name": "python3"
  },
  "language_info": {
   "codemirror_mode": {
    "name": "ipython",
    "version": 3
   },
   "file_extension": ".py",
   "mimetype": "text/x-python",
   "name": "python",
   "nbconvert_exporter": "python",
   "pygments_lexer": "ipython3",
   "version": "3.12.4"
  }
 },
 "nbformat": 4,
 "nbformat_minor": 5
}
