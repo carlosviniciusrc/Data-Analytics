{
 "cells": [
  {
   "cell_type": "markdown",
   "id": "b94b01db",
   "metadata": {},
   "source": [
    "### Trabalhando com Herança de Classes em Python\n",
    "Em Programação Orientada a Objetos (POO), a herança é um conceito que permite criar novas classes a partir de outras classes existentes, aproveitando os atributos e métodos da classe original e adicionando novos atributos e métodos específicos.\n",
    "\n",
    "A classe original é chamada de classe mãe ou superclasse e a nova classe criada é chamada de classe filha ou subclasse.\n",
    "\n",
    "A herança é uma técnica importante em POO porque permite reutilizar o código de maneira eficiente. Em vez de criar uma nova classe do zero, a subclasse pode herdar todos os atributos e métodos da superclasse e adicionar apenas o que é necessário. Dessa forma, a subclasse pode se concentrar em fornecer funcionalidades adicionais sem precisar se preocupar com as características básicas da classe.\n",
    "\n",
    "Na herança, uma subclasse pode herdar os atributos e métodos da superclasse e substituí-los ou estendê-los conforme necessário. Por exemplo, uma subclasse pode ter um método com o mesmo nome de um método da superclasse, mas com um comportamento diferente."
   ]
  },
  {
   "cell_type": "code",
   "execution_count": null,
   "id": "30e17340",
   "metadata": {},
   "outputs": [],
   "source": [
    "# Criando uma classe Animal - Super-classe\n",
    "# Obs: Não é obrigatório você utilizar parênteses na criação de uma classe,\n",
    "# Você só vai utilizar quando for criar uma subclasse (classe filha) para \n",
    "# atribuir a classe mãe.\n",
    "\n",
    "class Animal:\n",
    "\n",
    "    def __init__(self):\n",
    "        print(\"Animal criado.\")\n",
    "\n",
    "    def imprimir(self):\n",
    "        print(\"Este é um animal.\")\n",
    "\n",
    "    def comer(self):\n",
    "        print(\"Hora de comer.\")\n",
    "\n",
    "    # Aqui não passamos nenhuma ação para está função, pois ela pode ser\n",
    "    # utilizada nas sub-classes\n",
    "    def emitir_som(self):\n",
    "        pass"
   ]
  },
  {
   "cell_type": "code",
   "execution_count": null,
   "id": "a02bad73",
   "metadata": {},
   "outputs": [],
   "source": [
    "# Criando a classe Cachorro - Sub-classe\n",
    "# Neste caso utilizamos parênteses para definir a super-classe(classe mãe).\n",
    "# Obs: Aquilo que é geral para os animais colocamos na classe mãe, mas as\n",
    "# particularidades colocamos na sub-classe, por isso não passamos nenhum valor\n",
    "# para o método emitir_som(), pois é algo particular de cada animal.\n",
    "class Cachorro(Animal):\n",
    "\n",
    "    def __init__(self):\n",
    "        # Aqui estamos passando para executar a Super-classe dentro da Sub-classe\n",
    "        Animal.__init__(self)\n",
    "        # O print é um atributo da sub-classe\n",
    "        print(\"Objeto Cachorro criado.\")\n",
    "\n",
    "    # Este método pertence a super-classe, mas como não foi passado nenhuma ação,\n",
    "    # na sub-classe podemos utilizar ela.\n",
    "    def emitir_som(self):\n",
    "        print(\"Au au!\")"
   ]
  },
  {
   "cell_type": "code",
   "execution_count": null,
   "id": "73fdea1e",
   "metadata": {},
   "outputs": [],
   "source": [
    "# Criando a classe Gato - Sub-classe\n",
    "class Gato(Animal):\n",
    "\n",
    "    def __init__(self):\n",
    "        Animal.__init__(self)\n",
    "        print(\"Objeto Gato foi criado.\")\n",
    "\n",
    "    # Reutilizando o método da super-classe como foi utilizado na sub-classe cachorro\n",
    "    def emitir_som(self):\n",
    "        print(\"Miau!\")"
   ]
  },
  {
   "cell_type": "code",
   "execution_count": null,
   "id": "78ab5cb7",
   "metadata": {},
   "outputs": [],
   "source": [
    "# criando os objto cachorro\n",
    "rex = Cachorro()"
   ]
  },
  {
   "cell_type": "code",
   "execution_count": null,
   "id": "1b476943",
   "metadata": {},
   "outputs": [],
   "source": [
    "# criando os objto gato\n",
    "xanin = Gato()"
   ]
  },
  {
   "cell_type": "code",
   "execution_count": null,
   "id": "e4ea58b9",
   "metadata": {},
   "outputs": [],
   "source": [
    "# Utilizando métodos da classe cachorro\n",
    "rex.emitir_som()"
   ]
  },
  {
   "cell_type": "code",
   "execution_count": null,
   "id": "1ceada79",
   "metadata": {},
   "outputs": [],
   "source": [
    "# Utilizando métodos da classe gato\n",
    "xanin.emitir_som()"
   ]
  },
  {
   "cell_type": "code",
   "execution_count": null,
   "id": "11660d96",
   "metadata": {},
   "outputs": [],
   "source": [
    "# Utilizando métodos da super-classe(classe mãe) nas sub-classes\n",
    "rex.imprimir()"
   ]
  },
  {
   "cell_type": "code",
   "execution_count": null,
   "id": "e1dcbbc9",
   "metadata": {},
   "outputs": [],
   "source": [
    "rex.comer()"
   ]
  },
  {
   "cell_type": "code",
   "execution_count": null,
   "id": "1cb5992c",
   "metadata": {},
   "outputs": [],
   "source": [
    "xanin.comer()"
   ]
  },
  {
   "cell_type": "code",
   "execution_count": null,
   "id": "11d02185",
   "metadata": {},
   "outputs": [],
   "source": [
    "# Exemplo 2: Herança Simples\n",
    "\n",
    "class Veiculo:\n",
    "    \n",
    "    def __init__(self, marca, modelo):\n",
    "        self.marca = marca\n",
    "        self.modelo = modelo\n",
    "        self.ligado = False\n",
    "        print(f\"O Veiculo '{self.marca} {self.modelo}' foi criado.\")\n",
    "    \n",
    "    def ligar(self):\n",
    "        self.ligado = True\n",
    "        print(f\"O {self.modelo} está ligado.\")\n",
    "\n",
    "    def desligar(self):\n",
    "        self.ligado = False\n",
    "        print(f\"O {self.modelo} está desligado.\")"
   ]
  },
  {
   "cell_type": "code",
   "execution_count": null,
   "id": "53ed71d0",
   "metadata": {},
   "outputs": [],
   "source": [
    "# Subclasse\n",
    "class Carro(Veiculo):\n",
    "    pass"
   ]
  },
  {
   "cell_type": "code",
   "execution_count": null,
   "id": "c80ca92d",
   "metadata": {},
   "outputs": [],
   "source": [
    "# Teste do código\n",
    "meu_carro = Carro(\"Fiat\", \"Uno\")\n",
    "meu_carro.ligar()\n",
    "meu_carro.desligar()\n",
    "print(f\"Marca do carro: {meu_carro.marca}\")"
   ]
  }
 ],
 "metadata": {
  "kernelspec": {
   "display_name": "Python 3",
   "language": "python",
   "name": "python3"
  },
  "language_info": {
   "codemirror_mode": {
    "name": "ipython",
    "version": 3
   },
   "file_extension": ".py",
   "mimetype": "text/x-python",
   "name": "python",
   "nbconvert_exporter": "python",
   "pygments_lexer": "ipython3",
   "version": "3.12.4"
  }
 },
 "nbformat": 4,
 "nbformat_minor": 5
}
