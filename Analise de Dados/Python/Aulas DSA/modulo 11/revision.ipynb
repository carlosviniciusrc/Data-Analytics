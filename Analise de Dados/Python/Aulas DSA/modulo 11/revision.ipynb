{
 "cells": [
  {
   "cell_type": "markdown",
   "id": "3a91451b",
   "metadata": {},
   "source": [
    "### Revisão"
   ]
  },
  {
   "cell_type": "markdown",
   "id": "284629b9",
   "metadata": {},
   "source": [
    "Dia 02/09"
   ]
  },
  {
   "cell_type": "code",
   "execution_count": null,
   "id": "a1c00455",
   "metadata": {},
   "outputs": [],
   "source": [
    "# Importando as bibliotecas\n",
    "import matplotlib as mpl\n",
    "import matplotlib.pyplot as plt"
   ]
  },
  {
   "cell_type": "code",
   "execution_count": null,
   "id": "5f635dea",
   "metadata": {},
   "outputs": [],
   "source": [
    "# EX 1:\n",
    "x2 = [1,2,3]\n",
    "y2 = [11,12,15]\n",
    "\n",
    "plt.plot(x2,y2)\n",
    "plt.xlabel('Variável 1')\n",
    "plt.ylabel('Variável 2')\n",
    "plt.show()"
   ]
  },
  {
   "cell_type": "code",
   "execution_count": null,
   "id": "6a823622",
   "metadata": {},
   "outputs": [],
   "source": [
    "# Dados\n",
    "meses = [1, 2, 3, 4, 5, 6]\n",
    "vendas_produto_a = [100, 120, 150, 130, 170, 180]\n",
    "vendas_produto_b = [80, 85, 90, 110, 105, 120]"
   ]
  },
  {
   "cell_type": "code",
   "execution_count": null,
   "id": "bbcc3b77",
   "metadata": {},
   "outputs": [],
   "source": [
    "# Criando as linhas gráfico\n",
    "#           x         y            Nomeando a linha\n",
    "plt.plot(meses, vendas_produto_a, label='Produto A')\n",
    "plt.plot(meses, vendas_produto_b, label='Produto B')\n",
    "\n",
    "# Editando os eixos e o titulo\n",
    "plt.xlabel('Meses')\n",
    "plt.ylabel('Quantidade Vendida')\n",
    "plt.title('Relatorio de Vendas')\n",
    "plt.legend()"
   ]
  },
  {
   "cell_type": "markdown",
   "id": "950a8cf4",
   "metadata": {},
   "source": [
    "Dia 03/09"
   ]
  },
  {
   "cell_type": "code",
   "execution_count": null,
   "id": "9170a40f",
   "metadata": {},
   "outputs": [],
   "source": [
    "# Teste 1\n",
    "\n",
    "# Dados\n",
    "x2 = [1,2,3]\n",
    "y2 = [11,12,15]\n",
    "\n",
    "# Criando gráfico\n",
    "\n",
    "plt.plot(x2,y2)\n",
    "plt.xlabel('ID')\n",
    "plt.ylabel('Idades')\n",
    "plt.title('Teste 1')\n",
    "plt.show()"
   ]
  },
  {
   "cell_type": "code",
   "execution_count": null,
   "id": "062b0ae4",
   "metadata": {},
   "outputs": [],
   "source": [
    "# Teste 2\n",
    "\n",
    "# Dados\n",
    "meses = [1, 2, 3, 4, 5, 6]\n",
    "vendas_produto_a = [100, 120, 150, 130, 170, 180]\n",
    "vendas_produto_b = [80, 85, 90, 110, 105, 120]\n",
    "\n",
    "# Criando gráfico\n",
    "# O parâmetro label no plt.bar() (assim como em plt.plot() e outros gráficos do Matplotlib) \n",
    "# serve para dar um nome àquela série de dados, que depois pode ser exibido na legenda do gráfico.\n",
    "plt.plot(meses, vendas_produto_a, label = 'Produto A')\n",
    "plt.plot(meses, vendas_produto_b, label = 'Produto B')\n",
    "\n",
    "# Editando Nomenclatura dos dados\n",
    "plt.title('Vendas')\n",
    "plt.xlabel('Meses')\n",
    "plt.ylabel('Quantidade Vendida')\n",
    "plt.legend()\n",
    "plt.show()\n"
   ]
  }
 ],
 "metadata": {
  "kernelspec": {
   "display_name": "Python 3",
   "language": "python",
   "name": "python3"
  },
  "language_info": {
   "codemirror_mode": {
    "name": "ipython",
    "version": 3
   },
   "file_extension": ".py",
   "mimetype": "text/x-python",
   "name": "python",
   "nbconvert_exporter": "python",
   "pygments_lexer": "ipython3",
   "version": "3.12.4"
  }
 },
 "nbformat": 4,
 "nbformat_minor": 5
}
