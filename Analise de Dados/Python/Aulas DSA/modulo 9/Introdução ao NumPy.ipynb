{
 "cells": [
  {
   "cell_type": "markdown",
   "id": "3a74d063",
   "metadata": {},
   "source": [
    "## Numpy"
   ]
  },
  {
   "cell_type": "code",
   "execution_count": 1,
   "id": "05067de1",
   "metadata": {},
   "outputs": [],
   "source": [
    "# Importando o Numpy\n",
    "import numpy"
   ]
  },
  {
   "cell_type": "code",
   "execution_count": null,
   "id": "ac5d7c79",
   "metadata": {},
   "outputs": [],
   "source": [
    "# Versão do Numpy\n",
    "numpy.__version__"
   ]
  },
  {
   "cell_type": "markdown",
   "id": "ae7c9089",
   "metadata": {},
   "source": [
    "Criando Arrays Numpy"
   ]
  },
  {
   "cell_type": "markdown",
   "id": "3f074c3b",
   "metadata": {},
   "source": [
    "Um array NumPy é uma estrutura de dados multidimensional usada em computação científica e análise de dados. O NumPy fornece um objeto de matriz N-dimensional (ou ndarray), que é uma grade homogênea de elementos, geralmente números, que podem ser indexados por um conjunto de inteiros.\n",
    "\n",
    "Os arrays NumPy são mais eficientes do que as listas Python para armazenar e manipular grandes quantidades de dados, pois são implementados em Linguagem C e fornecem várias otimizações de desempenho. Além disso, o NumPy permite a fácil leitura e escrita de arquivos de dados, integração com outras bibliotecas Python e suporte a operações em paralelo usando várias CPUs ou GPUs."
   ]
  },
  {
   "cell_type": "code",
   "execution_count": null,
   "id": "85f92f83",
   "metadata": {},
   "outputs": [],
   "source": [
    "# Array criado a partir de uma lista Python\n",
    "arr1 = numpy.array([10, 21, 32, 43, 38, 15, 76, 57, 89])"
   ]
  },
  {
   "cell_type": "code",
   "execution_count": null,
   "id": "48bc13e8",
   "metadata": {},
   "outputs": [],
   "source": [
    "print(arr1)"
   ]
  },
  {
   "cell_type": "code",
   "execution_count": null,
   "id": "2e51f1e5",
   "metadata": {},
   "outputs": [],
   "source": [
    "# Um onjeto do tipo ndarray é um recipiente multidimensional de itens \n",
    "# do mesmo tipo e tamanho.\n",
    "type(arr1)"
   ]
  },
  {
   "cell_type": "code",
   "execution_count": null,
   "id": "0f059d48",
   "metadata": {},
   "outputs": [],
   "source": [
    "# Verificando o formato do array\n",
    "arr1.shape"
   ]
  }
 ],
 "metadata": {
  "kernelspec": {
   "display_name": "Python 3",
   "language": "python",
   "name": "python3"
  },
  "language_info": {
   "codemirror_mode": {
    "name": "ipython",
    "version": 3
   },
   "file_extension": ".py",
   "mimetype": "text/x-python",
   "name": "python",
   "nbconvert_exporter": "python",
   "pygments_lexer": "ipython3",
   "version": "3.12.4"
  }
 },
 "nbformat": 4,
 "nbformat_minor": 5
}
