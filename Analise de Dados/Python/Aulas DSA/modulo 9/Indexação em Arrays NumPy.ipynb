{
 "cells": [
  {
   "cell_type": "markdown",
   "id": "500c109f",
   "metadata": {},
   "source": [
    "Indexação em Arrays NumPy"
   ]
  },
  {
   "cell_type": "code",
   "execution_count": 1,
   "id": "9b886dfb",
   "metadata": {},
   "outputs": [],
   "source": [
    "# Importando a biblioteca\n",
    "import numpy"
   ]
  },
  {
   "cell_type": "markdown",
   "id": "cc75ea58",
   "metadata": {},
   "source": [
    "Indexação em Arrays Numpy"
   ]
  },
  {
   "cell_type": "code",
   "execution_count": 2,
   "id": "91f7d32a",
   "metadata": {},
   "outputs": [],
   "source": [
    "arra1 = numpy.array([10, 21, 32, 43, 15, 76, 57, 89])"
   ]
  },
  {
   "cell_type": "code",
   "execution_count": 3,
   "id": "ee88d130",
   "metadata": {},
   "outputs": [
    {
     "name": "stdout",
     "output_type": "stream",
     "text": [
      "[10 21 32 43 15 76 57 89]\n"
     ]
    }
   ],
   "source": [
    "print(arra1)"
   ]
  },
  {
   "cell_type": "code",
   "execution_count": 4,
   "id": "53a9a650",
   "metadata": {},
   "outputs": [
    {
     "name": "stdout",
     "output_type": "stream",
     "text": [
      "15\n"
     ]
    }
   ],
   "source": [
    "# Imprimindo um elementro específico no array\n",
    "print(arra1[4])"
   ]
  },
  {
   "cell_type": "code",
   "execution_count": 5,
   "id": "75756dcf",
   "metadata": {},
   "outputs": [
    {
     "data": {
      "text/plain": [
       "array([21, 32, 43])"
      ]
     },
     "execution_count": 5,
     "metadata": {},
     "output_type": "execute_result"
    }
   ],
   "source": [
    "# Indexação\n",
    "arra1[1:4]"
   ]
  },
  {
   "cell_type": "code",
   "execution_count": 6,
   "id": "bb0c2612",
   "metadata": {},
   "outputs": [],
   "source": [
    "# Criando uma lista de indices\n",
    "indices = [1, 2, 5, 6]"
   ]
  },
  {
   "cell_type": "code",
   "execution_count": 7,
   "id": "e2b9499a",
   "metadata": {},
   "outputs": [
    {
     "data": {
      "text/plain": [
       "array([21, 32, 76, 57])"
      ]
     },
     "execution_count": 7,
     "metadata": {},
     "output_type": "execute_result"
    }
   ],
   "source": [
    "# Imprimindo elementos dos índices\n",
    "arra1[indices]"
   ]
  },
  {
   "cell_type": "code",
   "execution_count": 8,
   "id": "1086ac2c",
   "metadata": {},
   "outputs": [],
   "source": [
    "# Criando uma mascara booleana para os elementos pares\n",
    "mask = (arra1 % 2 == 0)"
   ]
  },
  {
   "cell_type": "code",
   "execution_count": 9,
   "id": "ca02fda8",
   "metadata": {},
   "outputs": [
    {
     "name": "stdout",
     "output_type": "stream",
     "text": [
      "[ True False  True False False  True False False]\n"
     ]
    }
   ],
   "source": [
    "# Exibindo os valores da mascara\n",
    "print(mask)"
   ]
  },
  {
   "cell_type": "code",
   "execution_count": 10,
   "id": "898439c7",
   "metadata": {},
   "outputs": [
    {
     "data": {
      "text/plain": [
       "array([10, 32, 76])"
      ]
     },
     "execution_count": 10,
     "metadata": {},
     "output_type": "execute_result"
    }
   ],
   "source": [
    "# Exibindo somentos os valores Trues na lista\n",
    "arra1[mask]"
   ]
  },
  {
   "cell_type": "code",
   "execution_count": null,
   "id": "590b1313",
   "metadata": {},
   "outputs": [],
   "source": [
    "# Alterando um elemento do array\n",
    "arra1[0] = 100\n",
    "print(arra1)"
   ]
  },
  {
   "cell_type": "code",
   "execution_count": null,
   "id": "b04e89c2",
   "metadata": {},
   "outputs": [],
   "source": [
    "# não é possivel incluir elemento de outro tipo\n",
    "try:\n",
    "    arra1[0] = 'Novo elemento'\n",
    "except:\n",
    "    print(\"Operação não permitida\")"
   ]
  }
 ],
 "metadata": {
  "kernelspec": {
   "display_name": "Python 3",
   "language": "python",
   "name": "python3"
  },
  "language_info": {
   "codemirror_mode": {
    "name": "ipython",
    "version": 3
   },
   "file_extension": ".py",
   "mimetype": "text/x-python",
   "name": "python",
   "nbconvert_exporter": "python",
   "pygments_lexer": "ipython3",
   "version": "3.12.4"
  }
 },
 "nbformat": 4,
 "nbformat_minor": 5
}
