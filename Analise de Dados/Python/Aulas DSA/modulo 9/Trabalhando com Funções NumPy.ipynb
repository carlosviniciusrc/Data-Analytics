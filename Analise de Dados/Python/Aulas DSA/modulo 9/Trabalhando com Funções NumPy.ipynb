{
 "cells": [
  {
   "cell_type": "markdown",
   "id": "e5ee435b",
   "metadata": {},
   "source": [
    "### Funções em Numpy"
   ]
  },
  {
   "cell_type": "code",
   "execution_count": 1,
   "id": "9ee682fa",
   "metadata": {},
   "outputs": [],
   "source": [
    "# importando a Biblioteca\n",
    "import numpy"
   ]
  },
  {
   "cell_type": "code",
   "execution_count": 2,
   "id": "b43ee279",
   "metadata": {},
   "outputs": [],
   "source": [
    "# A função array() cria um array Numpy\n",
    "arr2 = numpy.array([1, 2, 3, 4, 5])"
   ]
  },
  {
   "cell_type": "code",
   "execution_count": 3,
   "id": "60f0feae",
   "metadata": {},
   "outputs": [
    {
     "name": "stdout",
     "output_type": "stream",
     "text": [
      "[1 2 3 4 5]\n"
     ]
    }
   ],
   "source": [
    "print(arr2)"
   ]
  },
  {
   "cell_type": "code",
   "execution_count": 4,
   "id": "8c64110b",
   "metadata": {},
   "outputs": [
    {
     "data": {
      "text/plain": [
       "numpy.ndarray"
      ]
     },
     "execution_count": 4,
     "metadata": {},
     "output_type": "execute_result"
    }
   ],
   "source": [
    "# Verificando o tipo do objeto\n",
    "type(arr2)"
   ]
  },
  {
   "cell_type": "markdown",
   "id": "4dd464e9",
   "metadata": {},
   "source": [
    "Usando métodos do Array Numpy"
   ]
  },
  {
   "cell_type": "code",
   "execution_count": 5,
   "id": "b6970ed8",
   "metadata": {},
   "outputs": [
    {
     "data": {
      "text/plain": [
       "array([ 1,  3,  6, 10, 15])"
      ]
     },
     "execution_count": 5,
     "metadata": {},
     "output_type": "execute_result"
    }
   ],
   "source": [
    "# A função cumsum() (cumulative sum) calcula a soma cumulativa dos elementos \n",
    "# de um array. Isso significa que cada elemento do array resultante é a soma \n",
    "# de todos os elementos anteriores, incluindo o próprio elemento.\n",
    "arr2.cumsum()"
   ]
  },
  {
   "cell_type": "code",
   "execution_count": 6,
   "id": "d8706685",
   "metadata": {},
   "outputs": [
    {
     "data": {
      "text/plain": [
       "array([  1,   2,   6,  24, 120])"
      ]
     },
     "execution_count": 6,
     "metadata": {},
     "output_type": "execute_result"
    }
   ],
   "source": [
    "# A função cumprod() (cumulative product) funciona de forma muito semelhante à cumsum(),\n",
    "# mas em vez de somar os elementos, ela os multiplica. Cada elemento do array resultante \n",
    "# é o produto de todos os elementos anteriores, incluindo o próprio elemento.\n",
    "arr2.cumprod()"
   ]
  },
  {
   "cell_type": "code",
   "execution_count": 7,
   "id": "9496d832",
   "metadata": {},
   "outputs": [
    {
     "name": "stdout",
     "output_type": "stream",
     "text": [
      "[ 0  5 10 15 20 25 30 35 40 45]\n"
     ]
    }
   ],
   "source": [
    "# A função arange cria um array NumPy contendo uma progressão aritmética a partir \n",
    "# de um intervalo — start, stop, Step.\n",
    "arr3 = numpy.arange(0,50,5)\n",
    "print(arr3)"
   ]
  },
  {
   "cell_type": "code",
   "execution_count": 8,
   "id": "d658a2dd",
   "metadata": {},
   "outputs": [
    {
     "data": {
      "text/plain": [
       "numpy.ndarray"
      ]
     },
     "execution_count": 8,
     "metadata": {},
     "output_type": "execute_result"
    }
   ],
   "source": [
    "# Verificando o tipo do objeto\n",
    "type(arr3)"
   ]
  },
  {
   "cell_type": "code",
   "execution_count": 9,
   "id": "e61b6c9f",
   "metadata": {},
   "outputs": [
    {
     "data": {
      "text/plain": [
       "(10,)"
      ]
     },
     "execution_count": 9,
     "metadata": {},
     "output_type": "execute_result"
    }
   ],
   "source": [
    "# Formato do array\n",
    "numpy.shape(arr3)"
   ]
  }
 ],
 "metadata": {
  "kernelspec": {
   "display_name": "Python 3",
   "language": "python",
   "name": "python3"
  },
  "language_info": {
   "codemirror_mode": {
    "name": "ipython",
    "version": 3
   },
   "file_extension": ".py",
   "mimetype": "text/x-python",
   "name": "python",
   "nbconvert_exporter": "python",
   "pygments_lexer": "ipython3",
   "version": "3.12.4"
  }
 },
 "nbformat": 4,
 "nbformat_minor": 5
}
